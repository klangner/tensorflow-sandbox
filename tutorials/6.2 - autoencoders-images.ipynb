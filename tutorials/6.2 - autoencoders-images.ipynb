{
 "cells": [
  {
   "cell_type": "markdown",
   "metadata": {},
   "source": [
    "# Autoencoders for images"
   ]
  },
  {
   "cell_type": "code",
   "execution_count": 23,
   "metadata": {
    "collapsed": true
   },
   "outputs": [],
   "source": [
    "import numpy as np\n",
    "import matplotlib.pyplot as plt\n",
    "import tensorflow as tf\n",
    "import pickle"
   ]
  },
  {
   "cell_type": "markdown",
   "metadata": {},
   "source": [
    "## Define autoencoder"
   ]
  },
  {
   "cell_type": "code",
   "execution_count": 24,
   "metadata": {
    "collapsed": false
   },
   "outputs": [],
   "source": [
    "def create_layer(x, input_size, output_size, name):\n",
    "    \"\"\"Helper function for creating single layer\"\"\"\n",
    "    with tf.name_scope(name):\n",
    "        weights = tf.Variable(tf.random_normal([input_size, output_size], dtype=tf.float32), name='weigths')\n",
    "        biases = tf.Variable(tf.zeros([output_size]), name='biases')\n",
    "        return tf.matmul(x, weights) + biases\n",
    "\n",
    "    \n",
    "class Autoencoder(object):\n",
    "    \n",
    "    def __init__(self, input_size, hidden_size, epoch=250, learning_rate=0.001):\n",
    "        self.epoch = epoch\n",
    "        self.learning_rate = learning_rate\n",
    "        self.x = tf.placeholder(dtype=tf.float32, shape=[None, input_size])\n",
    "        self.encoder = tf.nn.tanh(create_layer(self.x, input_size, 1, 'encoder'))\n",
    "        self.decoder = create_layer(self.encoder, 1, input_size, 'decoder')\n",
    "        self.loss = tf.sqrt(tf.reduce_mean(tf.square(tf.subtract(self.x, self.decoder))))\n",
    "        self.train_op = tf.train.RMSPropOptimizer(learning_rate).minimize(self.loss)\n",
    "        self.saver = tf.train.Saver()\n",
    "        \n",
    "    def train(self, data, batch_size=10):\n",
    "        num_samples = len(data)\n",
    "        with tf.Session() as sess:\n",
    "            sess.run(tf.global_variables_initializer())\n",
    "            for i in range(self.epoch):\n",
    "                arr = np.arange(num_samples)\n",
    "                np.random.shuffle(arr)\n",
    "                for j in range(num_samples // batch_size):\n",
    "                    batch_data = data[j*batch_size:(j+1)*batch_size]\n",
    "                    l, _ = sess.run([self.loss, self.train_op], feed_dict={self.x:batch_data})\n",
    "                if i % (self.epoch // 10) == 0:\n",
    "                    print('epoch {}, loss={}'.format(i, l))     \n",
    "                    self.saver.save(sess, '../models/autoencoder2.ckpt')\n",
    "            self.saver.save(sess, '../models/autoencoder2.ckpt')\n",
    "            \n",
    "    def test(self, data):\n",
    "        with tf.Session() as sess:\n",
    "            self.saver.restore(sess, '../models/autoencoder2.ckpt')\n",
    "            hidden, output = sess.run([self.encoder, self.decoder], feed_dict={self.x: data})\n",
    "        print('input', data)\n",
    "        print('compressed', hidden)\n",
    "        print('output', output)\n",
    "        return output"
   ]
  },
  {
   "cell_type": "markdown",
   "metadata": {},
   "source": [
    "Helper functions for reading serialized images"
   ]
  },
  {
   "cell_type": "code",
   "execution_count": 29,
   "metadata": {
    "collapsed": false
   },
   "outputs": [],
   "source": [
    "def unpickle(file):\n",
    "    fo = open(file, 'rb')\n",
    "    data = pickle.load(fo, encoding='latin1')\n",
    "    fo.close\n",
    "    return data\n",
    "\n",
    "\n",
    "def grayscale(a):\n",
    "    return a.reshape(a.shape[0], 3, 32, 32).mean(1).reshape(a.shape[0], -1)\n",
    "\n",
    "\n",
    "def load_images(path):\n",
    "    names = unpickle(path + 'batches.meta')['label_names']\n",
    "    data, labels = [], []\n",
    "    for i in range(1, 6):\n",
    "        filename = path + 'data_batch_' + str(i)\n",
    "        batch_data = unpickle(filename)\n",
    "        if len(data) > 0:\n",
    "            data = np.vstack([data, batch_data['data']])\n",
    "            labels = np.hstack([labels, batch_data['labels']])\n",
    "        else:\n",
    "            data = batch_data['data']\n",
    "            labels = batch_data['labels']\n",
    "    return grayscale(data), labels"
   ]
  },
  {
   "cell_type": "markdown",
   "metadata": {},
   "source": [
    "## Train autoencoder\n",
    "\n",
    "Use only horses to speed up training"
   ]
  },
  {
   "cell_type": "code",
   "execution_count": 32,
   "metadata": {
    "collapsed": false
   },
   "outputs": [
    {
     "name": "stdout",
     "output_type": "stream",
     "text": [
      "(5000, 1024)\n",
      "epoch 0, loss=110.14291381835938\n",
      "epoch 100, loss=33.42665100097656\n",
      "epoch 200, loss=4.5679450035095215\n",
      "epoch 300, loss=0.00025717710377648473\n",
      "epoch 400, loss=0.0002567209303379059\n",
      "epoch 500, loss=0.0002571705263108015\n",
      "epoch 600, loss=0.0002571738441474736\n",
      "epoch 700, loss=0.0002567688643466681\n",
      "epoch 800, loss=0.00025710713816806674\n",
      "epoch 900, loss=0.00025718522374518216\n"
     ]
    }
   ],
   "source": [
    "data, labels = load_images('../datasets/cifar-10-batches-py/')\n",
    "x = np.matrix(data)\n",
    "y = np.matrix(labels)\n",
    "\n",
    "horse_indices = np.where(y==7)[0]\n",
    "horse_x = x[horse_indices]\n",
    "print(np.shape(horse_x))\n",
    "\n",
    "input_size = np.shape(horse_x)[1]\n",
    "hidden_size = 100\n",
    "ae = Autoencoder(input_size, hidden_size, 500)\n",
    "ae.train(horse_x)"
   ]
  }
 ],
 "metadata": {
  "anaconda-cloud": {},
  "kernelspec": {
   "display_name": "Python [default]",
   "language": "python",
   "name": "python3"
  },
  "language_info": {
   "codemirror_mode": {
    "name": "ipython",
    "version": 3
   },
   "file_extension": ".py",
   "mimetype": "text/x-python",
   "name": "python",
   "nbconvert_exporter": "python",
   "pygments_lexer": "ipython3",
   "version": "3.5.2"
  }
 },
 "nbformat": 4,
 "nbformat_minor": 2
}
