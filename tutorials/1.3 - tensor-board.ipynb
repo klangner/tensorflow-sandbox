{
 "cells": [
  {
   "cell_type": "markdown",
   "metadata": {},
   "source": [
    "# Tensor Board\n",
    "\n",
    "Tensor Board is used to visualize process of learning. It is based on logs produced during the training and stored on the disk."
   ]
  },
  {
   "cell_type": "code",
   "execution_count": 1,
   "metadata": {
    "collapsed": true
   },
   "outputs": [],
   "source": [
    "import tensorflow as tf"
   ]
  },
  {
   "cell_type": "markdown",
   "metadata": {},
   "source": [
    "Lets prepare some training which we can later visualize."
   ]
  },
  {
   "cell_type": "code",
   "execution_count": 2,
   "metadata": {
    "collapsed": true
   },
   "outputs": [],
   "source": [
    "# Model\n",
    "W = tf.Variable(.3)\n",
    "b = tf.Variable(-.3)\n",
    "x = tf.placeholder(tf.float32)\n",
    "linear_model = W * x + b\n",
    "# Loss function\n",
    "y = tf.placeholder(tf.float32)\n",
    "squared_delta = tf.square(linear_model - y)\n",
    "loss = tf.reduce_sum(squared_delta)\n",
    "# Optimizer\n",
    "optimizer = tf.train.GradientDescentOptimizer(0.01)\n",
    "train = optimizer.minimize(loss)"
   ]
  },
  {
   "cell_type": "markdown",
   "metadata": {},
   "source": [
    "Prepare summary logs"
   ]
  },
  {
   "cell_type": "code",
   "execution_count": 7,
   "metadata": {
    "collapsed": false
   },
   "outputs": [],
   "source": [
    "# w_log = tf.summary.scalar('slope', W)\n",
    "# b_log = tf.summary.scalar('intercept', b)\n",
    "b_log = tf.summary.scalar('loss', loss)\n",
    "merged_log = tf.summary.merge_all()\n",
    "writer = tf.summary.FileWriter('../logs')"
   ]
  },
  {
   "cell_type": "markdown",
   "metadata": {},
   "source": [
    "Now train and log results"
   ]
  },
  {
   "cell_type": "code",
   "execution_count": 8,
   "metadata": {
    "collapsed": false
   },
   "outputs": [
    {
     "name": "stdout",
     "output_type": "stream",
     "text": [
      "[-0.9999969, 0.99999082]\n"
     ]
    }
   ],
   "source": [
    "with tf.Session() as sess:\n",
    "    sess.run(tf.global_variables_initializer())\n",
    "    for i in range(1000):\n",
    "        summary, current_vals = sess.run([merged_log, train], feed_dict={x:[1,2,3,4], y:[0,-1,-2,-3]})\n",
    "        writer.add_summary(summary, i)\n",
    "    # And now check what parameters were learned. We expect W = -1, b = 1\n",
    "    print(sess.run([W, b]))"
   ]
  },
  {
   "cell_type": "markdown",
   "metadata": {},
   "source": [
    "Now run TensorBoard with copmmand:\n",
    "```sh\n",
    "tensorboard --logdir=logs\n",
    "```\n",
    "\n",
    "And open browser at: http://localhost:6006"
   ]
  }
 ],
 "metadata": {
  "anaconda-cloud": {},
  "kernelspec": {
   "display_name": "Python [conda env:tensorflow]",
   "language": "python",
   "name": "conda-env-tensorflow-py"
  },
  "language_info": {
   "codemirror_mode": {
    "name": "ipython",
    "version": 3
   },
   "file_extension": ".py",
   "mimetype": "text/x-python",
   "name": "python",
   "nbconvert_exporter": "python",
   "pygments_lexer": "ipython3",
   "version": "3.5.2"
  }
 },
 "nbformat": 4,
 "nbformat_minor": 1
}
