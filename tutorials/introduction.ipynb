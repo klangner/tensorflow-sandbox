{
 "cells": [
  {
   "cell_type": "markdown",
   "metadata": {},
   "source": [
    "# TensorFlow introduction"
   ]
  },
  {
   "cell_type": "code",
   "execution_count": 1,
   "metadata": {
    "collapsed": true
   },
   "outputs": [],
   "source": [
    "import tensorflow as tf"
   ]
  },
  {
   "cell_type": "markdown",
   "metadata": {},
   "source": [
    "## Tensor \n",
    "\n",
    "Tensor is a multidimensional array (Generalization of Matrix). Can be used to create constants or variables.\n",
    "\n",
    "Here are some example of tensors:"
   ]
  },
  {
   "cell_type": "code",
   "execution_count": 2,
   "metadata": {
    "collapsed": false
   },
   "outputs": [
    {
     "name": "stdout",
     "output_type": "stream",
     "text": [
      "Tensor(\"Const:0\", shape=(), dtype=float32)\n",
      "Tensor(\"Const_1:0\", shape=(2,), dtype=int64)\n",
      "<tf.Variable 't2:0' shape=(2, 2, 2) dtype=int32_ref>\n"
     ]
    }
   ],
   "source": [
    "# Rank 0 tensor \n",
    "print(tf.constant(4.0))\n",
    "# Rank 1 tensor with specific type\n",
    "print(tf.constant([1, 2], dtype='int64'))\n",
    "# Rank 3 tensor created as variable with specific name\n",
    "print(tf.Variable([[[1,2],[3,4]], [[5,6], [7,8]]], name='t2'))"
   ]
  },
  {
   "cell_type": "markdown",
   "metadata": {},
   "source": [
    "## Graph\n",
    "\n",
    "In TF we define graph of computation. Graph consist of tensors and operations.\n",
    "\n",
    "Here is simple graph for adding 2 tensors:"
   ]
  },
  {
   "cell_type": "code",
   "execution_count": 3,
   "metadata": {
    "collapsed": true
   },
   "outputs": [],
   "source": [
    "t1 = tf.constant([1, 2])\n",
    "t2 = tf.constant([3, 4])\n",
    "g1 = tf.add(t1, t2, name='my_add')"
   ]
  },
  {
   "cell_type": "markdown",
   "metadata": {},
   "source": [
    "As you can see we don't get result yet. We only defined graph. To execute it we need sessions.\n",
    "\n",
    "## Session\n",
    "\n",
    "Session is used to execute graph and get result from computation.\n",
    "Here we execute our just defined graph"
   ]
  },
  {
   "cell_type": "code",
   "execution_count": 4,
   "metadata": {
    "collapsed": false
   },
   "outputs": [
    {
     "data": {
      "text/plain": [
       "array([4, 6], dtype=int32)"
      ]
     },
     "execution_count": 4,
     "metadata": {},
     "output_type": "execute_result"
    }
   ],
   "source": [
    "session = tf.Session()\n",
    "session.run(g1)"
   ]
  },
  {
   "cell_type": "markdown",
   "metadata": {},
   "source": [
    "In our first graph we only used constant.\n",
    "If we also want to use variables then we need to initialize them before we run computation.\n",
    "\n",
    "Lets define graph with variables"
   ]
  },
  {
   "cell_type": "code",
   "execution_count": 5,
   "metadata": {
    "collapsed": true
   },
   "outputs": [],
   "source": [
    "t1 = tf.constant([1, 2])\n",
    "t2 = tf.Variable([3, 4])\n",
    "g2 = tf.multiply(t1, t2)"
   ]
  },
  {
   "cell_type": "markdown",
   "metadata": {},
   "source": [
    "## Variable initialization \n",
    "\n",
    "Variables need to be initialized before we can use them. We do it by creating special operation which we will run in our session before any other operations."
   ]
  },
  {
   "cell_type": "code",
   "execution_count": 6,
   "metadata": {
    "collapsed": false
   },
   "outputs": [
    {
     "name": "stdout",
     "output_type": "stream",
     "text": [
      "[3 8]\n"
     ]
    }
   ],
   "source": [
    "# Add an Op to initialize global variables.\n",
    "init_op = tf.global_variables_initializer()\n",
    "\n",
    "# Launch the graph in a session.\n",
    "with tf.Session() as sess:\n",
    "    # Run the Op that initializes global variables.\n",
    "    sess.run(init_op)\n",
    "    # ...you can now run any Op that uses variable values...\n",
    "    print(sess.run(g2))"
   ]
  },
  {
   "cell_type": "markdown",
   "metadata": {},
   "source": [
    "## Placeholders\n",
    "\n",
    "Placeholders allows to provided tensorf during graph executing. \n",
    "\n",
    "The following graph will add 2 vectors where one will be provided during session execution."
   ]
  },
  {
   "cell_type": "code",
   "execution_count": 7,
   "metadata": {
    "collapsed": true
   },
   "outputs": [],
   "source": [
    "t1 = tf.constant([1.0, 2.0])\n",
    "x = tf.placeholder(tf.float32)\n",
    "g3 = tf.multiply(t1, x)"
   ]
  },
  {
   "cell_type": "markdown",
   "metadata": {},
   "source": [
    "Now we can run this graph with different values"
   ]
  },
  {
   "cell_type": "code",
   "execution_count": 8,
   "metadata": {
    "collapsed": false
   },
   "outputs": [
    {
     "name": "stdout",
     "output_type": "stream",
     "text": [
      "[  4.  10.]\n",
      "[ 12.  64.]\n"
     ]
    }
   ],
   "source": [
    "# We still need to initialize variables\n",
    "init_op = tf.global_variables_initializer()\n",
    "\n",
    "# Launch first session\n",
    "with tf.Session() as sess:\n",
    "    sess.run(init_op)\n",
    "    print(sess.run(g3, {x: [4, 5]}))\n",
    "    print(sess.run(g3, {x: [12, 32]}))"
   ]
  },
  {
   "cell_type": "markdown",
   "metadata": {},
   "source": [
    "## Loss function\n",
    "\n",
    "Loss function is a metrics which defines how good our model is.\n",
    "\n",
    "Lets build simple linear model"
   ]
  },
  {
   "cell_type": "code",
   "execution_count": 9,
   "metadata": {
    "collapsed": true
   },
   "outputs": [],
   "source": [
    "W = tf.Variable([.3], tf.float32)\n",
    "b = tf.Variable([-.3], tf.float32)\n",
    "x = tf.placeholder(tf.float32)\n",
    "linear_model = W * x + b"
   ]
  },
  {
   "cell_type": "markdown",
   "metadata": {},
   "source": [
    "We can evaluate this model at few points"
   ]
  },
  {
   "cell_type": "code",
   "execution_count": 10,
   "metadata": {
    "collapsed": false
   },
   "outputs": [
    {
     "name": "stdout",
     "output_type": "stream",
     "text": [
      "[ 0.90000004  1.20000005]\n"
     ]
    }
   ],
   "source": [
    "with tf.Session() as sess:\n",
    "    sess.run(tf.global_variables_initializer())\n",
    "    print(sess.run(linear_model, {x: [4, 5]}))"
   ]
  },
  {
   "cell_type": "markdown",
   "metadata": {},
   "source": [
    "Now we define loss function. We will use sum of squares"
   ]
  },
  {
   "cell_type": "code",
   "execution_count": 11,
   "metadata": {
    "collapsed": false
   },
   "outputs": [
    {
     "name": "stdout",
     "output_type": "stream",
     "text": [
      "23.66\n"
     ]
    }
   ],
   "source": [
    "y = tf.placeholder(tf.float32)\n",
    "squared_delta = tf.square(linear_model - y)\n",
    "loss = tf.reduce_sum(squared_delta)\n",
    "\n",
    "# Let's check this model\n",
    "with tf.Session() as sess:\n",
    "    sess.run(tf.global_variables_initializer())\n",
    "    print(sess.run(loss, {x:[1,2,3,4], y:[0,-1,-2,-3]}))"
   ]
  },
  {
   "cell_type": "markdown",
   "metadata": {},
   "source": [
    "## Optimizers\n",
    "\n",
    "Optimizers change Variables during training, so the model during training is getting closer to the real model.\n",
    "\n",
    "We will use Gradient Descent."
   ]
  },
  {
   "cell_type": "code",
   "execution_count": 12,
   "metadata": {
    "collapsed": false
   },
   "outputs": [
    {
     "name": "stdout",
     "output_type": "stream",
     "text": [
      "[array([-0.9999969], dtype=float32), array([ 0.99999082], dtype=float32)]\n"
     ]
    }
   ],
   "source": [
    "optimizer = tf.train.GradientDescentOptimizer(0.01)\n",
    "train = optimizer.minimize(loss)\n",
    "\n",
    "with tf.Session() as sess:\n",
    "    sess.run(tf.global_variables_initializer())\n",
    "    # 1000 training steps\n",
    "    for i in range(1000):\n",
    "        # Single step in gradient descent\n",
    "        sess.run(train, {x:[1,2,3,4], y:[0,-1,-2,-3]})\n",
    "    # And now check what parameters were learned. We expect W = -1, b = 1\n",
    "    print(sess.run([W, b]))"
   ]
  },
  {
   "cell_type": "markdown",
   "metadata": {},
   "source": [
    "## Save and Load state\n",
    "\n",
    "TF allows to save and load variables. Variables are saved as dictionary with variable name as a key and its value.\n",
    "It means that it is possible to load all variables at once or any single variable using its name."
   ]
  },
  {
   "cell_type": "code",
   "execution_count": 17,
   "metadata": {
    "collapsed": false
   },
   "outputs": [
    {
     "name": "stdout",
     "output_type": "stream",
     "text": [
      "[-0.30000001  0.40000001  5.        ]\n",
      "[ 0.  0.  0.]\n",
      "INFO:tensorflow:Restoring parameters from ../models/intro.ckpt\n",
      "[-0.30000001  0.40000001  5.        ]\n"
     ]
    }
   ],
   "source": [
    "c = tf.Variable([-.3, .4, 5.], tf.float32)\n",
    "# Add ops to save and restore all the variables.\n",
    "saver = tf.train.Saver()\n",
    "with tf.Session() as sess:\n",
    "    sess.run(tf.global_variables_initializer())\n",
    "    print(sess.run(c))\n",
    "    saver.save(sess, \"../models/intro.ckpt\")\n",
    "    # Modify variable\n",
    "    sess.run(tf.assign(c, [0., 0., 0.]))\n",
    "    print(sess.run(c))\n",
    "    # Load variable\n",
    "    saver.restore(sess, \"../models/intro.ckpt\")\n",
    "    print(sess.run(c))"
   ]
  }
 ],
 "metadata": {
  "anaconda-cloud": {},
  "kernelspec": {
   "display_name": "Python [default]",
   "language": "python",
   "name": "python3"
  },
  "language_info": {
   "codemirror_mode": {
    "name": "ipython",
    "version": 3
   },
   "file_extension": ".py",
   "mimetype": "text/x-python",
   "name": "python",
   "nbconvert_exporter": "python",
   "pygments_lexer": "ipython3",
   "version": "3.5.2"
  }
 },
 "nbformat": 4,
 "nbformat_minor": 2
}
