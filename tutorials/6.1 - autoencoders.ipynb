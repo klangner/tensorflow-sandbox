{
 "cells": [
  {
   "cell_type": "markdown",
   "metadata": {},
   "source": [
    "# Autoencoders"
   ]
  },
  {
   "cell_type": "code",
   "execution_count": 14,
   "metadata": {},
   "outputs": [],
   "source": [
    "import numpy as np\n",
    "import matplotlib.pyplot as plt\n",
    "import tensorflow as tf\n",
    "from sklearn import datasets"
   ]
  },
  {
   "cell_type": "markdown",
   "metadata": {},
   "source": [
    "## Define autoencoder"
   ]
  },
  {
   "cell_type": "code",
   "execution_count": 23,
   "metadata": {
    "collapsed": true
   },
   "outputs": [],
   "source": [
    "def create_layer(x, input_size, output_size, name):\n",
    "    \"\"\"Helper function for creating single layer\"\"\"\n",
    "    with tf.name_scope(name):\n",
    "        weights = tf.Variable(tf.random_normal([input_size, output_size], dtype=tf.float32), name='weigths')\n",
    "        biases = tf.Variable(tf.zeros([output_size]), name='biases')\n",
    "        return tf.matmul(x, weights) + biases\n",
    "\n",
    "    \n",
    "class Autoencoder(object):\n",
    "    \n",
    "    def __init__(self, input_size, hidden_size, epoch=250, learning_rate=0.001):\n",
    "        self.epoch = epoch\n",
    "        self.learning_rate = learning_rate\n",
    "        self.x = tf.placeholder(dtype=tf.float32, shape=[None, input_size])\n",
    "        self.encoder = tf.nn.tanh(create_layer(self.x, input_size, 1, 'encoder'))\n",
    "        self.decoder = create_layer(self.encoder, 1, input_size, 'decoder')\n",
    "        self.loss = tf.sqrt(tf.reduce_mean(tf.square(tf.subtract(self.x, self.decoder))))\n",
    "        self.train_op = tf.train.RMSPropOptimizer(learning_rate).minimize(self.loss)\n",
    "        self.saver = tf.train.Saver()\n",
    "        \n",
    "    def train(self, data):\n",
    "        num_samples = len(data)\n",
    "        with tf.Session() as sess:\n",
    "            sess.run(tf.global_variables_initializer())\n",
    "            for i in range(self.epoch):\n",
    "                for j in range(num_samples):\n",
    "                    l, _ = sess.run([self.loss, self.train_op], feed_dict={self.x:[data[j]]})\n",
    "                if i % (self.epoch // 10) == 0:\n",
    "                    print('epoch {}, loss={}'.format(i, l))     \n",
    "                    self.saver.save(sess, '../models/autoencoder1.ckpt')\n",
    "            self.saver.save(sess, '../models/autoencoder1.ckpt')\n",
    "            \n",
    "    def test(self, data):\n",
    "        with tf.Session() as sess:\n",
    "            self.saver.restore(sess, '../models/autoencoder1.ckpt')\n",
    "            hidden, output = sess.run([self.encoder, self.decoder], feed_dict={self.x: data})\n",
    "        print('input', data)\n",
    "        print('compressed', hidden)\n",
    "        print('output', output)\n",
    "        return output"
   ]
  },
  {
   "cell_type": "markdown",
   "metadata": {},
   "source": [
    "## Train autoencoder on Iris dataset"
   ]
  },
  {
   "cell_type": "code",
   "execution_count": 28,
   "metadata": {},
   "outputs": [
    {
     "name": "stdout",
     "output_type": "stream",
     "text": [
      "epoch 0, loss=3.7631583213806152\n",
      "epoch 25, loss=0.5827294588088989\n",
      "epoch 50, loss=0.4093671143054962\n",
      "epoch 75, loss=0.4083506762981415\n",
      "epoch 100, loss=0.4083426892757416\n",
      "epoch 125, loss=0.40822848677635193\n",
      "epoch 150, loss=0.3968602120876312\n",
      "epoch 175, loss=0.3912559151649475\n",
      "epoch 200, loss=0.37086042761802673\n",
      "epoch 225, loss=0.33666616678237915\n"
     ]
    }
   ],
   "source": [
    "data = datasets.load_iris().data\n",
    "hidden_size = 1\n",
    "input_size = len(data[0])\n",
    "ae = Autoencoder(input_size, hidden_size)\n",
    "ae.train(data)"
   ]
  },
  {
   "cell_type": "markdown",
   "metadata": {},
   "source": [
    "# Test on sample data"
   ]
  },
  {
   "cell_type": "code",
   "execution_count": 29,
   "metadata": {},
   "outputs": [
    {
     "name": "stdout",
     "output_type": "stream",
     "text": [
      "INFO:tensorflow:Restoring parameters from ../models/autoencoder1.ckpt\n",
      "input [[ 4.4  2.9  1.4  0.2]\n",
      " [ 5.   3.6  1.4  0.2]]\n",
      "compressed [[ 0.16788286]\n",
      " [ 0.12539166]]\n",
      "output [[ 4.85602427  3.21752739  2.28904295  0.55845821]\n",
      " [ 4.76693153  3.23697138  2.14088035  0.49484342]]\n"
     ]
    },
    {
     "data": {
      "text/plain": [
       "array([[ 4.85602427,  3.21752739,  2.28904295,  0.55845821],\n",
       "       [ 4.76693153,  3.23697138,  2.14088035,  0.49484342]], dtype=float32)"
      ]
     },
     "execution_count": 29,
     "metadata": {},
     "output_type": "execute_result"
    }
   ],
   "source": [
    "ae.test(data[[8, 4]])"
   ]
  }
 ],
 "metadata": {
  "kernelspec": {
   "display_name": "Python 3",
   "language": "python",
   "name": "python3"
  },
  "language_info": {
   "codemirror_mode": {
    "name": "ipython",
    "version": 3
   },
   "file_extension": ".py",
   "mimetype": "text/x-python",
   "name": "python",
   "nbconvert_exporter": "python",
   "pygments_lexer": "ipython3",
   "version": "3.6.1"
  }
 },
 "nbformat": 4,
 "nbformat_minor": 2
}
