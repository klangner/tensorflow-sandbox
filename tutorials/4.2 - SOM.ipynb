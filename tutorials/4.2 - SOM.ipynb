{
 "cells": [
  {
   "cell_type": "markdown",
   "metadata": {},
   "source": [
    "# Self Organizing Map\n",
    "\n",
    "SOM are used to dimension reduction. This can be used for clustering for futher processing or for visualization of higly dimensional data in lower dimensions.\n",
    "\n",
    "This tutorial will map 3d color space into 2d. This is 'hello world' for SOM.\n",
    "\n",
    "The algorithm works in the following steps:\n",
    "\n",
    " 1. Intialize output grid weights to the random numbers\n",
    " 2. For each input vector (data point)\n",
    "   1. Find node in the grid neartes to the input vector (BMU)\n",
    "   2. Update weights of the BMU to reflect input vector\n",
    "   3. Update all neightbors of BMU to match input vector. The closer nodes are modified more\n",
    "   \n",
    "The range of neighbors shrinks over time.\n",
    "\n",
    "**Warning** This algorithm takes a lot of time."
   ]
  },
  {
   "cell_type": "code",
   "execution_count": 2,
   "metadata": {},
   "outputs": [],
   "source": [
    "import numpy as np\n",
    "import matplotlib.pyplot as plt\n",
    "import tensorflow as tf"
   ]
  },
  {
   "cell_type": "markdown",
   "metadata": {},
   "source": [
    "## Initialize output space to random variables"
   ]
  },
  {
   "cell_type": "code",
   "execution_count": 117,
   "metadata": {},
   "outputs": [
    {
     "data": {
      "image/png": "[encoded data removed]",
      "text/plain": [
       "<matplotlib.figure.Figure at 0x7ff9c8cd4710>"
      ]
     },
     "metadata": {},
     "output_type": "display_data"
    }
   ],
   "source": [
    "output_size = 4\n",
    "\n",
    "output = np.random.uniform(size=(output_size*output_size, 3))\n",
    "\n",
    "def plot_output(out):\n",
    "    plt.imshow(out.reshape([output_size, output_size, 3]))\n",
    "    plt.show()\n",
    "    \n",
    "plot_output(output)    "
   ]
  },
  {
   "cell_type": "markdown",
   "metadata": {},
   "source": [
    "Prepare TensorFlow structures"
   ]
  },
  {
   "cell_type": "code",
   "execution_count": 122,
   "metadata": {},
   "outputs": [
    {
     "data": {
      "image/png": "[encoded data removed]",
      "text/plain": [
       "<matplotlib.figure.Figure at 0x7ff9be045c50>"
      ]
     },
     "metadata": {},
     "output_type": "display_data"
    }
   ],
   "source": [
    "iter_count = 1\n",
    "# Initialize\n",
    "nodes = tf.Variable(output, dtype=tf.float32)\n",
    "node_locs = get_locs()\n",
    "x = tf.placeholder(tf.float32, [dim])\n",
    "step = tf.placeholder(tf.float32)\n",
    "\n",
    "\n",
    "def get_locs():\n",
    "    locs = [[x,y] for y in range(output_size) for x in range(output_size)]\n",
    "    return tf.to_float(locs)\n",
    "\n",
    "\n",
    "# Update grid\n",
    "def get_propagation(bmu_loc, x, i):\n",
    "    num_nodes = output_size * output_size\n",
    "    rate = 1.0 - tf.div(i, iter_count)\n",
    "    alpha = rate * 0.5\n",
    "    sigma = rate * tf.to_float(output_size / 2.0)\n",
    "    expanded_bmu_loc = tf.expand_dims(tf.to_float(bmu_loc), 0)\n",
    "    sqr_dist_bmu = tf.reduce_sum(tf.square(tf.subtract(expanded_bmu_loc, node_locs)), 1)\n",
    "    neigh_factor = tf.exp(-tf.div(sqr_dist_bmu, 2*tf.square(sigma)))\n",
    "    rate = tf.multiply(alpha, neigh_factor)\n",
    "    rate_factor = tf.stack( [tf.tile(tf.slice(rate, [i], [1]), [3]) for i in range(output_size*output_size)] )\n",
    "    nodes_diff = tf.multiply(rate_factor, tf.subtract(tf.stack([x for i in range(output_size*output_size)]), nodes))\n",
    "    update_nodes = tf.add(nodes, nodes_diff)\n",
    "    return tf.assign(nodes, update_nodes)\n",
    "    \n",
    "    \n",
    "# Find BMU\n",
    "def get_bmu_loc(x):\n",
    "    expanded_x = tf.expand_dims(x, 0)\n",
    "    sqr_diff = tf.square(tf.subtract(expanded_x, nodes))\n",
    "    dist = tf.reduce_sum(sqr_diff, 1)\n",
    "    bmu_idx = tf.argmin(dist, 0)\n",
    "    bmu_loc = tf.stack([tf.mod(bmu_idx, output_size), tf.div(bmu_idx, output_size)])\n",
    "    return bmu_loc\n",
    "    \n",
    "    \n",
    "colors = np.array(\n",
    "    [ [0.0, 0.0, 1.0]\n",
    "    , [0.0, 0.0, 0.95]\n",
    "    , [0.0, 0.05, 1.0]\n",
    "    , [0.0, 1.0, 0.0]\n",
    "    , [0.0, 0.95, 0.0]\n",
    "    , [0.0, 1.0, 0.05]\n",
    "    , [1.0, 0.0, 0.0]\n",
    "    , [1.0, 0.05, 0.0]\n",
    "    , [1.0, 0.0, 0.05]\n",
    "    , [1.0, 1.0, 0.0]\n",
    "    ])    \n",
    "\n",
    "x1 = tf.constant(output[1, :], dtype=tf.float32)\n",
    "with tf.Session() as sess:   \n",
    "    sess.run(tf.global_variables_initializer())\n",
    "    propagate_nodes = get_propagation(get_bmu_loc(x), x, step)\n",
    "    for i in range(iter_count):\n",
    "        for c in colors:\n",
    "            sess.run(propagate_nodes, feed_dict={x: c, step: i})\n",
    "    node_vals = sess.run(nodes)\n",
    "    plot_output(node_vals)"
   ]
  }
 ],
 "metadata": {
  "kernelspec": {
   "display_name": "Python 3",
   "language": "python",
   "name": "python3"
  },
  "language_info": {
   "codemirror_mode": {
    "name": "ipython",
    "version": 3
   },
   "file_extension": ".py",
   "mimetype": "text/x-python",
   "name": "python",
   "nbconvert_exporter": "python",
   "pygments_lexer": "ipython3",
   "version": "3.6.1"
  }
 },
 "nbformat": 4,
 "nbformat_minor": 2
}
