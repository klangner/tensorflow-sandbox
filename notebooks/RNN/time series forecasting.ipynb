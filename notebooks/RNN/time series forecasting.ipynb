{
 "cells": [
  {
   "cell_type": "markdown",
   "metadata": {},
   "source": [
    "# RNN for time series forecasting\n",
    "\n",
    "This notebook is based on book: [Deep Learning with Python](https://www.manning.com/books/deep-learning-with-python).\n",
    "\n",
    "Here we will use Keras to build RNN which will be used to forecast air temperature 24 hours in the future."
   ]
  },
  {
   "cell_type": "code",
   "execution_count": 1,
   "metadata": {},
   "outputs": [
    {
     "name": "stderr",
     "output_type": "stream",
     "text": [
      "Using TensorFlow backend.\n"
     ]
    }
   ],
   "source": [
    "import time\n",
    "import numpy as np\n",
    "import pandas as pd\n",
    "import matplotlib.pyplot as plt\n",
    "from matplotlib import rcParams\n",
    "rcParams['figure.figsize'] = 12, 4\n",
    "\n",
    "import tensorflow as tf\n",
    "from keras.models import Sequential\n",
    "from keras import layers\n",
    "from keras.optimizers import RMSprop"
   ]
  },
  {
   "cell_type": "markdown",
   "metadata": {},
   "source": [
    "# Load data\n",
    "\n",
    "Data is taken from Weather Station at the Max Planc Insitute for Biogeochemistry in Jena, Germany.\n",
    "\n",
    "This data is recorded for every 10 minutes and goes back to 2003. But here we will use limited data from 2009-2016.\n",
    "\n",
    "This data can be downloaded from: https://s3.amazonaws.com/keras-datasets/jena_climate_2009_2016.csv.zip"
   ]
  },
  {
   "cell_type": "code",
   "execution_count": 2,
   "metadata": {},
   "outputs": [
    {
     "data": {
      "text/html": [
       "<div>\n",
       "<style scoped>\n",
       "    .dataframe tbody tr th:only-of-type {\n",
       "        vertical-align: middle;\n",
       "    }\n",
       "\n",
       "    .dataframe tbody tr th {\n",
       "        vertical-align: top;\n",
       "    }\n",
       "\n",
       "    .dataframe thead th {\n",
       "        text-align: right;\n",
       "    }\n",
       "</style>\n",
       "<table border=\"1\" class=\"dataframe\">\n",
       "  <thead>\n",
       "    <tr style=\"text-align: right;\">\n",
       "      <th></th>\n",
       "      <th>Date Time</th>\n",
       "      <th>p (mbar)</th>\n",
       "      <th>T (degC)</th>\n",
       "      <th>Tpot (K)</th>\n",
       "      <th>Tdew (degC)</th>\n",
       "      <th>rh (%)</th>\n",
       "      <th>VPmax (mbar)</th>\n",
       "      <th>VPact (mbar)</th>\n",
       "      <th>VPdef (mbar)</th>\n",
       "      <th>sh (g/kg)</th>\n",
       "      <th>H2OC (mmol/mol)</th>\n",
       "      <th>rho (g/m**3)</th>\n",
       "      <th>wv (m/s)</th>\n",
       "      <th>max. wv (m/s)</th>\n",
       "      <th>wd (deg)</th>\n",
       "    </tr>\n",
       "  </thead>\n",
       "  <tbody>\n",
       "    <tr>\n",
       "      <th>0</th>\n",
       "      <td>01.01.2009 00:10:00</td>\n",
       "      <td>996.52</td>\n",
       "      <td>-8.02</td>\n",
       "      <td>265.40</td>\n",
       "      <td>-8.90</td>\n",
       "      <td>93.3</td>\n",
       "      <td>3.33</td>\n",
       "      <td>3.11</td>\n",
       "      <td>0.22</td>\n",
       "      <td>1.94</td>\n",
       "      <td>3.12</td>\n",
       "      <td>1307.75</td>\n",
       "      <td>1.03</td>\n",
       "      <td>1.75</td>\n",
       "      <td>152.3</td>\n",
       "    </tr>\n",
       "    <tr>\n",
       "      <th>1</th>\n",
       "      <td>01.01.2009 00:20:00</td>\n",
       "      <td>996.57</td>\n",
       "      <td>-8.41</td>\n",
       "      <td>265.01</td>\n",
       "      <td>-9.28</td>\n",
       "      <td>93.4</td>\n",
       "      <td>3.23</td>\n",
       "      <td>3.02</td>\n",
       "      <td>0.21</td>\n",
       "      <td>1.89</td>\n",
       "      <td>3.03</td>\n",
       "      <td>1309.80</td>\n",
       "      <td>0.72</td>\n",
       "      <td>1.50</td>\n",
       "      <td>136.1</td>\n",
       "    </tr>\n",
       "    <tr>\n",
       "      <th>2</th>\n",
       "      <td>01.01.2009 00:30:00</td>\n",
       "      <td>996.53</td>\n",
       "      <td>-8.51</td>\n",
       "      <td>264.91</td>\n",
       "      <td>-9.31</td>\n",
       "      <td>93.9</td>\n",
       "      <td>3.21</td>\n",
       "      <td>3.01</td>\n",
       "      <td>0.20</td>\n",
       "      <td>1.88</td>\n",
       "      <td>3.02</td>\n",
       "      <td>1310.24</td>\n",
       "      <td>0.19</td>\n",
       "      <td>0.63</td>\n",
       "      <td>171.6</td>\n",
       "    </tr>\n",
       "    <tr>\n",
       "      <th>3</th>\n",
       "      <td>01.01.2009 00:40:00</td>\n",
       "      <td>996.51</td>\n",
       "      <td>-8.31</td>\n",
       "      <td>265.12</td>\n",
       "      <td>-9.07</td>\n",
       "      <td>94.2</td>\n",
       "      <td>3.26</td>\n",
       "      <td>3.07</td>\n",
       "      <td>0.19</td>\n",
       "      <td>1.92</td>\n",
       "      <td>3.08</td>\n",
       "      <td>1309.19</td>\n",
       "      <td>0.34</td>\n",
       "      <td>0.50</td>\n",
       "      <td>198.0</td>\n",
       "    </tr>\n",
       "    <tr>\n",
       "      <th>4</th>\n",
       "      <td>01.01.2009 00:50:00</td>\n",
       "      <td>996.51</td>\n",
       "      <td>-8.27</td>\n",
       "      <td>265.15</td>\n",
       "      <td>-9.04</td>\n",
       "      <td>94.1</td>\n",
       "      <td>3.27</td>\n",
       "      <td>3.08</td>\n",
       "      <td>0.19</td>\n",
       "      <td>1.92</td>\n",
       "      <td>3.09</td>\n",
       "      <td>1309.00</td>\n",
       "      <td>0.32</td>\n",
       "      <td>0.63</td>\n",
       "      <td>214.3</td>\n",
       "    </tr>\n",
       "  </tbody>\n",
       "</table>\n",
       "</div>"
      ],
      "text/plain": [
       "             Date Time  p (mbar)  T (degC)  Tpot (K)  Tdew (degC)  rh (%)  \\\n",
       "0  01.01.2009 00:10:00    996.52     -8.02    265.40        -8.90    93.3   \n",
       "1  01.01.2009 00:20:00    996.57     -8.41    265.01        -9.28    93.4   \n",
       "2  01.01.2009 00:30:00    996.53     -8.51    264.91        -9.31    93.9   \n",
       "3  01.01.2009 00:40:00    996.51     -8.31    265.12        -9.07    94.2   \n",
       "4  01.01.2009 00:50:00    996.51     -8.27    265.15        -9.04    94.1   \n",
       "\n",
       "   VPmax (mbar)  VPact (mbar)  VPdef (mbar)  sh (g/kg)  H2OC (mmol/mol)  \\\n",
       "0          3.33          3.11          0.22       1.94             3.12   \n",
       "1          3.23          3.02          0.21       1.89             3.03   \n",
       "2          3.21          3.01          0.20       1.88             3.02   \n",
       "3          3.26          3.07          0.19       1.92             3.08   \n",
       "4          3.27          3.08          0.19       1.92             3.09   \n",
       "\n",
       "   rho (g/m**3)  wv (m/s)  max. wv (m/s)  wd (deg)  \n",
       "0       1307.75      1.03           1.75     152.3  \n",
       "1       1309.80      0.72           1.50     136.1  \n",
       "2       1310.24      0.19           0.63     171.6  \n",
       "3       1309.19      0.34           0.50     198.0  \n",
       "4       1309.00      0.32           0.63     214.3  "
      ]
     },
     "execution_count": 2,
     "metadata": {},
     "output_type": "execute_result"
    }
   ],
   "source": [
    "data_frame = pd.read_csv('../../datasets/jena_climate_2009_2016.csv')\n",
    "input_data = data_frame.values[:, 1:].astype(float)\n",
    "data_frame.head()"
   ]
  },
  {
   "cell_type": "markdown",
   "metadata": {},
   "source": [
    "### We are interested in temperature"
   ]
  },
  {
   "cell_type": "code",
   "execution_count": 3,
   "metadata": {},
   "outputs": [
    {
     "data": {
      "image/png": "[encoded data removed]",
      "text/plain": [
       "<matplotlib.figure.Figure at 0x7f4f6ed68f28>"
      ]
     },
     "metadata": {},
     "output_type": "display_data"
    },
    {
     "data": {
      "image/png": "[encoded data removed]",
      "text/plain": [
       "<matplotlib.figure.Figure at 0x7f4f814c8c88>"
      ]
     },
     "metadata": {},
     "output_type": "display_data"
    }
   ],
   "source": [
    "temperature = input_data[:, 1]\n",
    "plt.plot(temperature)\n",
    "plt.show()\n",
    "# First 10 days\n",
    "plt.plot(temperature[:1440])\n",
    "plt.show()"
   ]
  },
  {
   "cell_type": "markdown",
   "metadata": {},
   "source": [
    "# Preparing the data"
   ]
  },
  {
   "cell_type": "markdown",
   "metadata": {},
   "source": [
    "## Normalize data\n",
    "\n",
    "Since we have different time series, we need to normalize them so they will have similar scale"
   ]
  },
  {
   "cell_type": "code",
   "execution_count": 4,
   "metadata": {},
   "outputs": [
    {
     "name": "stdout",
     "output_type": "stream",
     "text": [
      "[[ 0.90014748 -1.93135845 -1.98211036 ..., -0.72950452 -0.78067973\n",
      "  -0.27613603]\n",
      " [ 0.9060434  -1.97541381 -2.02567    ..., -0.93124017 -0.88794488\n",
      "  -0.46317443]\n",
      " [ 0.90132666 -1.98671006 -2.03683914 ..., -1.27614304 -1.26122763\n",
      "  -0.05330633]\n",
      " ..., \n",
      " [ 1.28927851 -1.38236094 -1.46721307 ..., -0.69696652 -0.67341457\n",
      "   0.45008097]\n",
      " [ 1.28809932 -1.50323076 -1.58672285 ..., -0.43015486 -0.60476487\n",
      "   0.57246412]\n",
      " [ 1.28927851 -1.56987861 -1.65150386 ..., -0.5993525  -0.690577\n",
      "   0.10024989]]\n"
     ]
    }
   ],
   "source": [
    "TRAINING_SIZE = 200000\n",
    "mean = input_data[:TRAINING_SIZE].mean(axis=0)\n",
    "stddev = input_data[:TRAINING_SIZE].std(axis=0)\n",
    "normalized_data = (input_data - mean) / stddev\n",
    "print(normalized_data)"
   ]
  },
  {
   "cell_type": "markdown",
   "metadata": {},
   "source": [
    "## Data generator\n",
    "\n",
    "Because the samples in the dataset are highly reduntant, we will use dataset generator for splitting data into separate train, test and validation set."
   ]
  },
  {
   "cell_type": "code",
   "execution_count": 5,
   "metadata": {},
   "outputs": [
    {
     "data": {
      "text/plain": [
       "(array([[[ 0.90014748, -1.93135845, -1.98211036, -1.86280029,  1.07285236,\n",
       "          -1.30742164, -1.47375773, -0.79868641, -1.4762674 , -1.47815522,\n",
       "           2.12375056, -0.72950452, -0.78067973, -0.27613603],\n",
       "         [ 0.9060434 , -1.97541381, -2.02567   , -1.91582958,  1.07883061,\n",
       "          -1.32042698, -1.4951961 , -0.80075238, -1.49502455, -1.49932141,\n",
       "           2.17199852, -0.93124017, -0.88794488, -0.46317443]]]),\n",
       " array([-1.98671006]))"
      ]
     },
     "execution_count": 5,
     "metadata": {},
     "output_type": "execute_result"
    }
   ],
   "source": [
    "def generator(data, lookback, delay, min_index, max_index, shuffle=False, batch_size=128, step=6):\n",
    "    \"\"\"\n",
    "    Params:\n",
    "    data - normalized input data\n",
    "    lookback - how many timesteps back the input data should go\n",
    "    delay - How many timesteps in the future the target should be\n",
    "    min_index, max_index - data indices\n",
    "    shuffle - randomize data?\n",
    "    batch_size - #samples in the batch\n",
    "    step - The period of data sampling (6 = every hour)\n",
    "    \"\"\"\n",
    "    if max_index is None:\n",
    "        max_index = len(data) - delay - 1\n",
    "    i = min_index + lookback\n",
    "    while True:\n",
    "        if shuffle:\n",
    "            rows = np.random.randint(min_index+lookback, max_index, size=batch_size)\n",
    "        else:\n",
    "            if i + batch_size >= max_index:\n",
    "                i = min_index + lookback\n",
    "            rows = np.arange(i, min(i+batch_size, max_index))\n",
    "            i += len(rows)\n",
    "        samples = np.zeros((len(rows), lookback // step, data.shape[-1]))\n",
    "        targets = np.zeros((len(rows), ))\n",
    "        \n",
    "        for j, row in enumerate(rows):\n",
    "            indices = range(rows[j] - lookback, rows[j], step)\n",
    "            samples[j] = data[indices]\n",
    "            targets[j] = data[rows[j] + delay][1]\n",
    "        yield samples, targets\n",
    "\n",
    "next(generator(normalized_data, 2, 0, 0, 10, shuffle=False, batch_size=1, step=1))"
   ]
  },
  {
   "cell_type": "code",
   "execution_count": 6,
   "metadata": {},
   "outputs": [],
   "source": [
    "lookback = 1440  # Use data from the last 10 days\n",
    "step = 6         # Observations will be sampled at one data point per hour\n",
    "delay = 144      # Targets will be 24 hours in the future\n",
    "batch_size = 128 \n",
    "\n",
    "train_gen = generator(normalized_data, lookback=lookback, delay=delay, min_index=0, max_index=TRAINING_SIZE, \n",
    "                      shuffle=True, batch_size=batch_size, step=step)\n",
    "\n",
    "val_gen = generator(normalized_data, lookback=lookback, delay=delay, min_index=TRAINING_SIZE, max_index=300000, \n",
    "                    shuffle=True, batch_size=batch_size, step=step)\n",
    "\n",
    "test_gen = generator(normalized_data, lookback=lookback, delay=delay, min_index=300001, max_index=None,\n",
    "                     shuffle=True, batch_size=batch_size, step=step)\n",
    "\n",
    "val_steps = 300000 - 200001 - lookback\n",
    "test_steps = len(normalized_data) - 300001 - lookback"
   ]
  },
  {
   "cell_type": "markdown",
   "metadata": {},
   "source": [
    "# Common-sense baseline\n",
    "\n",
    "Based on intuition we will predict that that the temperature will be the same like in the last somple in feature vector."
   ]
  },
  {
   "cell_type": "code",
   "execution_count": 16,
   "metadata": {},
   "outputs": [
    {
     "name": "stdout",
     "output_type": "stream",
     "text": [
      "0.28963222445\n",
      "Calculated in 660.725 seconds\n"
     ]
    }
   ],
   "source": [
    "def evaluate_naive_method():\n",
    "    batch_meas = []\n",
    "    for step in range(val_steps):\n",
    "        samples, targets = next(val_gen)\n",
    "        preds = samples[:,-1, 1]\n",
    "        mae = np.mean(np.abs(preds - targets))\n",
    "        batch_meas.append(mae)\n",
    "    print(np.mean(batch_meas))\n",
    "    \n",
    "start_time = time.time()    \n",
    "evaluate_naive_method()    \n",
    "print(\"Calculated in {:.3f} seconds\".format(time.time() - start_time))"
   ]
  },
  {
   "cell_type": "markdown",
   "metadata": {},
   "source": [
    "# Basic ML model\n",
    "\n",
    "Before starting using RNN, lets build model using small densely connected networks. For this will will flat our\n",
    "\n",
    "```\n",
    "(batch_size, lookback // step, #features)\n",
    "```\n",
    "\n",
    "tensor into\n",
    "```\n",
    "(batch_size, lookback // step * #features)\n",
    "```"
   ]
  },
  {
   "cell_type": "code",
   "execution_count": 7,
   "metadata": {},
   "outputs": [
    {
     "name": "stdout",
     "output_type": "stream",
     "text": [
      "WARNING:tensorflow:From /home/klangner/bin/anaconda3/envs/tensorflow/lib/python3.5/site-packages/keras/backend/tensorflow_backend.py:1264: calling reduce_prod (from tensorflow.python.ops.math_ops) with keep_dims is deprecated and will be removed in a future version.\n",
      "Instructions for updating:\n",
      "keep_dims is deprecated, use keepdims instead\n",
      "WARNING:tensorflow:From /home/klangner/bin/anaconda3/envs/tensorflow/lib/python3.5/site-packages/keras/backend/tensorflow_backend.py:1349: calling reduce_mean (from tensorflow.python.ops.math_ops) with keep_dims is deprecated and will be removed in a future version.\n",
      "Instructions for updating:\n",
      "keep_dims is deprecated, use keepdims instead\n",
      "Epoch 1/20\n",
      "500/500 [==============================] - 38s 76ms/step - loss: 1.2460 - val_loss: 0.5262\n",
      "Epoch 2/20\n",
      "500/500 [==============================] - 36s 73ms/step - loss: 0.4487 - val_loss: 0.3829\n",
      "Epoch 3/20\n",
      "500/500 [==============================] - 38s 76ms/step - loss: 0.2950 - val_loss: 0.3123\n",
      "Epoch 4/20\n",
      "500/500 [==============================] - 40s 81ms/step - loss: 0.2702 - val_loss: 0.3031\n",
      "Epoch 5/20\n",
      "500/500 [==============================] - 46s 93ms/step - loss: 0.2561 - val_loss: 0.3295\n",
      "Epoch 6/20\n",
      "500/500 [==============================] - 45s 90ms/step - loss: 0.2441 - val_loss: 0.3256\n",
      "Epoch 7/20\n",
      "500/500 [==============================] - 43s 86ms/step - loss: 0.2359 - val_loss: 0.3201\n",
      "Epoch 8/20\n",
      "500/500 [==============================] - 46s 92ms/step - loss: 0.2303 - val_loss: 0.3676\n",
      "Epoch 9/20\n",
      "500/500 [==============================] - 45s 90ms/step - loss: 0.2258 - val_loss: 0.3148\n",
      "Epoch 10/20\n",
      "500/500 [==============================] - 44s 89ms/step - loss: 0.2209 - val_loss: 0.3222\n",
      "Epoch 11/20\n",
      "500/500 [==============================] - 43s 86ms/step - loss: 0.2191 - val_loss: 0.3356\n",
      "Epoch 12/20\n",
      "500/500 [==============================] - 42s 84ms/step - loss: 0.2157 - val_loss: 0.3332\n",
      "Epoch 13/20\n",
      "500/500 [==============================] - 44s 88ms/step - loss: 0.2118 - val_loss: 0.3263\n",
      "Epoch 14/20\n",
      "500/500 [==============================] - 48s 95ms/step - loss: 0.2094 - val_loss: 0.3222\n",
      "Epoch 15/20\n",
      "500/500 [==============================] - 47s 95ms/step - loss: 0.2080 - val_loss: 0.3498\n",
      "Epoch 16/20\n",
      "500/500 [==============================] - 50s 100ms/step - loss: 0.2046 - val_loss: 0.3187\n",
      "Epoch 17/20\n",
      "500/500 [==============================] - 44s 88ms/step - loss: 0.2038 - val_loss: 0.3697\n",
      "Epoch 18/20\n",
      "500/500 [==============================] - 45s 90ms/step - loss: 0.2021 - val_loss: 0.3296\n",
      "Epoch 19/20\n",
      "500/500 [==============================] - 41s 83ms/step - loss: 0.2050 - val_loss: 0.3304\n",
      "Epoch 20/20\n",
      "500/500 [==============================] - 45s 89ms/step - loss: 0.1996 - val_loss: 0.3242\n",
      "Calculated in 872.149 seconds\n"
     ]
    }
   ],
   "source": [
    "start_time = time.time()\n",
    "model = Sequential()\n",
    "model.add(layers.Flatten(input_shape=(lookback // step, normalized_data.shape[-1])))\n",
    "model.add(layers.Dense(32, activation='relu'))\n",
    "model.add(layers.Dense(1))\n",
    "model.compile(optimizer=RMSprop(), loss='mae')\n",
    "history = model.fit_generator(train_gen, steps_per_epoch=500, epochs=20, \n",
    "                              validation_data=val_gen, validation_steps=1000)\n",
    "print(\"Calculated in {:.3f} seconds\".format(time.time() - start_time))"
   ]
  },
  {
   "cell_type": "markdown",
   "metadata": {},
   "source": [
    "## Ploting results"
   ]
  },
  {
   "cell_type": "code",
   "execution_count": 8,
   "metadata": {},
   "outputs": [
    {
     "data": {
      "image/png": "[encoded data removed]",
      "text/plain": [
       "<matplotlib.figure.Figure at 0x7f4f7f2c7908>"
      ]
     },
     "metadata": {},
     "output_type": "display_data"
    }
   ],
   "source": [
    "def plot_loss(hist):\n",
    "    loss = hist.history['loss']\n",
    "    val_loss = hist.history['val_loss']\n",
    "    epochs = range(1, len(loss) + 1)\n",
    "\n",
    "    plt.figure()\n",
    "    plt.plot(epochs, loss, 'bo', label='Traning loss')\n",
    "    plt.plot(epochs, val_loss, 'b', label='Validation loss')\n",
    "    plt.ylim(ymax=0.6)\n",
    "    plt.title('Training and validation loss')\n",
    "    plt.legend()\n",
    "    plt.show()\n",
    "    \n",
    "    \n",
    "plot_loss(history)"
   ]
  },
  {
   "cell_type": "markdown",
   "metadata": {},
   "source": [
    "# RNN baseline\n",
    "\n",
    "Lets now try RNN which should be more suited to this problem. For this network we will use GRU layers which are cheaper to compute then more powerful LSTM"
   ]
  },
  {
   "cell_type": "code",
   "execution_count": null,
   "metadata": {},
   "outputs": [
    {
     "name": "stdout",
     "output_type": "stream",
     "text": [
      "WARNING:tensorflow:From /home/klangner/bin/anaconda3/envs/tensorflow/lib/python3.5/site-packages/keras/backend/tensorflow_backend.py:1247: calling reduce_sum (from tensorflow.python.ops.math_ops) with keep_dims is deprecated and will be removed in a future version.\n",
      "Instructions for updating:\n",
      "keep_dims is deprecated, use keepdims instead\n",
      "Epoch 1/20\n",
      "500/500 [==============================] - 331s 662ms/step - loss: 0.3068 - val_loss: 0.2715\n",
      "Epoch 2/20\n",
      "500/500 [==============================] - 323s 646ms/step - loss: 0.2851 - val_loss: 0.2671\n",
      "Epoch 3/20\n",
      "500/500 [==============================] - 344s 689ms/step - loss: 0.2784 - val_loss: 0.2659\n",
      "Epoch 4/20\n",
      "500/500 [==============================] - 382s 765ms/step - loss: 0.2738 - val_loss: 0.2606\n",
      "Epoch 5/20\n",
      "500/500 [==============================] - 452s 905ms/step - loss: 0.2676 - val_loss: 0.2689\n",
      "Epoch 6/20\n",
      "500/500 [==============================] - 439s 877ms/step - loss: 0.2639 - val_loss: 0.2652\n",
      "Epoch 7/20\n",
      "330/500 [==================>...........] - ETA: 1:44 - loss: 0.2615"
     ]
    }
   ],
   "source": [
    "start_time = time.time()\n",
    "model = Sequential()\n",
    "model.add(layers.GRU(32, input_shape=(None, normalized_data.shape[-1])))\n",
    "model.add(layers.Dense(1))\n",
    "model.compile(optimizer=RMSprop(), loss='mae')\n",
    "history = model.fit_generator(train_gen, steps_per_epoch=500, epochs=20, \n",
    "                              validation_data=val_gen, validation_steps=1000)\n",
    "print(\"Calculated in {:.3f} seconds\".format(time.time() - start_time))"
   ]
  }
 ],
 "metadata": {
  "kernelspec": {
   "display_name": "Python 3",
   "language": "python",
   "name": "python3"
  },
  "language_info": {
   "codemirror_mode": {
    "name": "ipython",
    "version": 3
   },
   "file_extension": ".py",
   "mimetype": "text/x-python",
   "name": "python",
   "nbconvert_exporter": "python",
   "pygments_lexer": "ipython3",
   "version": "3.6.3"
  }
 },
 "nbformat": 4,
 "nbformat_minor": 2
}
