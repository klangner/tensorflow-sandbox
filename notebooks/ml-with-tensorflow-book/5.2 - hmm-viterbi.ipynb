{
 "cells": [
  {
   "cell_type": "markdown",
   "metadata": {},
   "source": [
    "# HMM - Viterbi decode"
   ]
  },
  {
   "cell_type": "code",
   "execution_count": 3,
   "metadata": {
    "collapsed": true
   },
   "outputs": [],
   "source": [
    "import numpy as np\n",
    "import matplotlib.pyplot as plt\n",
    "import tensorflow as tf"
   ]
  },
  {
   "cell_type": "markdown",
   "metadata": {},
   "source": [
    "## Define HMM class"
   ]
  },
  {
   "cell_type": "code",
   "execution_count": 10,
   "metadata": {
    "collapsed": false
   },
   "outputs": [],
   "source": [
    "class HMM(object):\n",
    "    \n",
    "    def __init__(self, initial_prob, trans_prob, obs_prob):\n",
    "        self.N = np.size(initial_prob)\n",
    "        self.initial_prob = initial_prob\n",
    "        self.trans_prob = trans_prob\n",
    "        self.emission = tf.constant(obs_prob)\n",
    "        assert self.initial_prob.shape == (self.N, 1)\n",
    "        assert self.trans_prob.shape == (self.N, self.N)\n",
    "        assert obs_prob.shape[0] == self.N\n",
    "        # Placeholders for forward algorithm\n",
    "        self.obs_idx = tf.placeholder(tf.int32)\n",
    "        self.viterbi = tf.placeholder(tf.float64)\n",
    "    \n",
    "    def get_emission(self, obs_idx):\n",
    "        \"\"\" Helper function for getting slice from emission matrix\n",
    "            We get observation and return the potentials of a given hidden variables.\n",
    "        \"\"\"\n",
    "        slice_location = [0, obs_idx]\n",
    "        num_rows = tf.shape(self.emission)[0]\n",
    "        slice_shape = [num_rows, 1]\n",
    "        return tf.slice(self.emission, slice_location, slice_shape)\n",
    "    \n",
    "    def forward_init_op(self):\n",
    "        obs_prob = self.get_emission(self.obs_idx)\n",
    "        # Multiplication element-wise\n",
    "        return tf.multiply(self.initial_prob, obs_prob)\n",
    "    \n",
    "    def decode_op(self):\n",
    "        transitions = tf.matmul(self.viterbi, tf.transpose(self.get_emission(self.obs_idx)))\n",
    "        weighted_transistions = transitions * self.trans_prob\n",
    "        viterbi = tf.reduce_max(weighted_transistions, 0)\n",
    "        return tf.reshape(viterbi, tf.shape(self.viterbi))\n",
    "        \n",
    "    def backpt_op(self):\n",
    "        back_transitions = tf.matmul(self.viterbi, np.ones((1, self.N)))\n",
    "        weighted_back_transitions = back_transitions * self.trans_prob\n",
    "        return tf.argmax(weighted_back_transitions, 0)"
   ]
  },
  {
   "cell_type": "markdown",
   "metadata": {},
   "source": [
    "## Viterbi algorithm"
   ]
  },
  {
   "cell_type": "code",
   "execution_count": 16,
   "metadata": {
    "collapsed": true
   },
   "outputs": [],
   "source": [
    "def viterbi_decode(sess, hmm, observations):\n",
    "    viterbi = sess.run(hmm.forward_init_op(), feed_dict={hmm.obs_idx: observations[0]})\n",
    "    backpts = np.ones((hmm.N, len(observations)), 'int32') * -1\n",
    "    for t in range(1, len(observations)):\n",
    "        viterbi, backpt = sess.run([hmm.decode_op(), hmm.backpt_op()], \n",
    "                                   feed_dict={hmm.obs_idx: observations[t], hmm.viterbi: viterbi})\n",
    "        backpts[:, t] = backpt\n",
    "    tokens = [viterbi[:, -1].argmax()]\n",
    "    for i in range(len(observations) -1, 0, -1):\n",
    "        tokens.append(backpts[tokens[-1], i])\n",
    "    return tokens[::-1]"
   ]
  },
  {
   "cell_type": "markdown",
   "metadata": {},
   "source": [
    "## Example\n",
    "\n",
    "Let's run it on the following example (wether is a hidden variable):\n",
    "\n",
    "```json\n",
    "states = ('Rainy', 'Sunny')\n",
    " \n",
    "observations = ('walk', 'shop', 'clean')\n",
    " \n",
    "start_probability = {'Rainy': 0.6, 'Sunny': 0.4}\n",
    " \n",
    "transition_probability = {\n",
    "   'Rainy' : {'Rainy': 0.7, 'Sunny': 0.3},\n",
    "   'Sunny' : {'Rainy': 0.4, 'Sunny': 0.6},\n",
    "   }\n",
    " \n",
    "emission_probability = {\n",
    "   'Rainy' : {'walk': 0.1, 'shop': 0.4, 'clean': 0.5},\n",
    "   'Sunny' : {'walk': 0.6, 'shop': 0.3, 'clean': 0.1},\n",
    "   }\n",
    "```   "
   ]
  },
  {
   "cell_type": "code",
   "execution_count": 19,
   "metadata": {
    "collapsed": false
   },
   "outputs": [
    {
     "name": "stdout",
     "output_type": "stream",
     "text": [
      "Most probable weather [2, 0, 1, 0, 1] is [0, 1, 1, 1, 1]\n",
      "Most probable weather [2, 2, 2, 2, 2] is [0, 0, 0, 0, 0]\n"
     ]
    }
   ],
   "source": [
    "initial_prob = np.array([[0.6], \n",
    "                         [0.4]])        \n",
    "trans_prob = np.array([[0.7, 0.3],\n",
    "                       [0.4, 0.6]])\n",
    "obs_prob = np.array([[0.1, 0.4, 0.5],\n",
    "                     [0.6, 0.3, 0.1]])\n",
    "\n",
    "hmm = HMM(initial_prob, trans_prob, obs_prob)\n",
    "\n",
    "observations = [2, 0, 1, 0, 1]\n",
    "observations2 = [2, 2, 2, 2, 2]\n",
    "with tf.Session() as sess:\n",
    "    prob = viterbi_decode(sess, hmm, observations)\n",
    "    print('Most probable weather {} is {}'.format(observations, prob))\n",
    "    prob = viterbi_decode(sess, hmm, observations2)\n",
    "    print('Most probable weather {} is {}'.format(observations2, prob))    "
   ]
  }
 ],
 "metadata": {
  "anaconda-cloud": {},
  "kernelspec": {
   "display_name": "Python [conda env:tensorflow]",
   "language": "python",
   "name": "conda-env-tensorflow-py"
  },
  "language_info": {
   "codemirror_mode": {
    "name": "ipython",
    "version": 3
   },
   "file_extension": ".py",
   "mimetype": "text/x-python",
   "name": "python",
   "nbconvert_exporter": "python",
   "pygments_lexer": "ipython3",
   "version": "3.5.2"
  }
 },
 "nbformat": 4,
 "nbformat_minor": 1
}
