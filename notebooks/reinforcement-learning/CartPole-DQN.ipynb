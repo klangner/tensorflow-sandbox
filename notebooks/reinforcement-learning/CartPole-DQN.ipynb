{
 "cells": [
  {
   "cell_type": "markdown",
   "metadata": {},
   "source": [
    "# Solve CartPole using DQN\n",
    "\n",
    "https://gym.openai.com/envs/CartPole-v0/\n",
    "\n",
    "Some useful resources:\n",
    "  * https://jaromiru.com/2016/09/27/lets-make-a-dqn-theory/"
   ]
  },
  {
   "cell_type": "code",
   "execution_count": 1,
   "metadata": {},
   "outputs": [
    {
     "name": "stderr",
     "output_type": "stream",
     "text": [
      "/home/klangner/bin/anaconda3/envs/tensorflow/lib/python3.6/site-packages/h5py/__init__.py:36: FutureWarning: Conversion of the second argument of issubdtype from `float` to `np.floating` is deprecated. In future, it will be treated as `np.float64 == np.dtype(float).type`.\n",
      "  from ._conv import register_converters as _register_converters\n",
      "Using TensorFlow backend.\n"
     ]
    }
   ],
   "source": [
    "import numpy as np\n",
    "import matplotlib.pyplot as plt\n",
    "import gym\n",
    "from keras import models, layers, optimizers\n",
    "from replay_buffer import ReplayBuffer\n",
    "%matplotlib inline\n",
    "%load_ext autoreload\n",
    "%autoreload 2"
   ]
  },
  {
   "cell_type": "markdown",
   "metadata": {},
   "source": [
    "# Explore environment"
   ]
  },
  {
   "cell_type": "code",
   "execution_count": 2,
   "metadata": {},
   "outputs": [
    {
     "name": "stdout",
     "output_type": "stream",
     "text": [
      "\u001b[33mWARN: gym.spaces.Box autodetected dtype as <class 'numpy.float32'>. Please provide explicit dtype.\u001b[0m\n",
      "Observation shape: (4,)\n",
      "Number of actions: 2\n",
      "Example state: [-0.02836622 -0.02257915 -0.00846206  0.00126709]\n"
     ]
    },
    {
     "data": {
      "text/plain": [
       "<matplotlib.image.AxesImage at 0x7fb7518779b0>"
      ]
     },
     "execution_count": 2,
     "metadata": {},
     "output_type": "execute_result"
    },
    {
     "data": {
      "image/png": "[encoded data removed]",
      "text/plain": [
       "<matplotlib.figure.Figure at 0x7fb762f6e780>"
      ]
     },
     "metadata": {},
     "output_type": "display_data"
    }
   ],
   "source": [
    "#spawn game instance for tests\n",
    "env = gym.make(\"CartPole-v0\") #create raw env\n",
    "\n",
    "observation_shape = env.observation_space.shape\n",
    "n_actions = env.action_space.n\n",
    "\n",
    "print(\"Observation shape: {}\".format(observation_shape))\n",
    "print(\"Number of actions: {}\".format(n_actions))\n",
    "\n",
    "print(\"Example state: {}\".format(env.reset()))\n",
    "plt.imshow(env.render('rgb_array'))"
   ]
  },
  {
   "cell_type": "markdown",
   "metadata": {},
   "source": [
    "# Build DQN Agent"
   ]
  },
  {
   "cell_type": "markdown",
   "metadata": {},
   "source": [
    "## Define QNetwork"
   ]
  },
  {
   "cell_type": "code",
   "execution_count": 3,
   "metadata": {},
   "outputs": [
    {
     "data": {
      "text/plain": [
       "array([0.00706768, 0.00154039], dtype=float32)"
      ]
     },
     "execution_count": 3,
     "metadata": {},
     "output_type": "execute_result"
    }
   ],
   "source": [
    "class QNetwork:\n",
    "    \n",
    "    def __init__(self, input_shape, n_actions, alpha=0.0003):\n",
    "        self.input_shape = input_shape\n",
    "        self.output_shape = n_actions\n",
    "        self.alpha = alpha\n",
    "        self.model = self._build_network()\n",
    "\n",
    "    def _build_network(self):\n",
    "        model = models.Sequential()\n",
    "        model.add(layers.InputLayer(self.input_shape))\n",
    "        model.add(layers.Dense(64, activation='relu'))\n",
    "        model.add(layers.Dense(self.output_shape, activation='linear'))\n",
    "        opt = optimizers.RMSprop(lr=self.alpha)\n",
    "        model.compile(loss='mse', optimizer=opt)\n",
    "        return model\n",
    "    \n",
    "    def predict(self, state):\n",
    "        \"\"\"Make prediction for single state and return q values for all actions\"\"\"\n",
    "        s = np.expand_dims(state, axis=0)\n",
    "        return self.model.predict(s)[0]\n",
    "    \n",
    "    def predict_batch(self, states):\n",
    "        \"\"\"Make prediction for list of states\"\"\"\n",
    "        return self.model.predict(states)\n",
    "    \n",
    "    def train(self, x, y):\n",
    "        self.model.fit(x, y, batch_size=64, verbose=0)\n",
    "\n",
    "        \n",
    "network = QNetwork(observation_shape, n_actions)\n",
    "network.predict(env.reset())"
   ]
  },
  {
   "cell_type": "markdown",
   "metadata": {},
   "source": [
    "## Build traing set"
   ]
  },
  {
   "cell_type": "code",
   "execution_count": 4,
   "metadata": {},
   "outputs": [
    {
     "name": "stdout",
     "output_type": "stream",
     "text": [
      "Ok!\n"
     ]
    }
   ],
   "source": [
    "def build_training_set(qvalues, qvalues_next, actions, rewards, dones, gamma=0.99):\n",
    "    \"\"\"\n",
    "    Create training set for QNetwork.\n",
    "    Params:\n",
    "      qvalues           - Q values for the starting state\n",
    "      qvalues_next      - Q values for the state the next state\n",
    "      actions           - Actions taken\n",
    "      rewards           - Rewards received after taking action \n",
    "      dones             - Did this action end the episode?\n",
    "      \n",
    "    Returns:\n",
    "      Expected qvalues\n",
    "    \"\"\"\n",
    "    y = qvalues.copy()\n",
    "    next_rewards = np.where(dones, np.zeros(rewards.shape), np.max(qvalues_next, axis=1))\n",
    "    y[np.arange(y.shape[0]), actions] = rewards + gamma * next_rewards\n",
    "    return y\n",
    "\n",
    "\n",
    "# Some tests\n",
    "qvalues = np.zeros((5, n_actions))\n",
    "qvalues2 = np.ones((5, n_actions))\n",
    "actions = np.array([0, 1, 0, 1, 0])\n",
    "rewards = np.array([1, 2, 3, 4, 5])\n",
    "dones = np.array([False, False, False, False, True])\n",
    "expected_y = np.array([[2, 0], [0, 3], [4, 0], [0, 5], [5, 0]])\n",
    "y = build_training_set(qvalues, qvalues2, actions, rewards, dones, 1.0)\n",
    "assert np.array_equal(y, expected_y), 'Wrong expected qvalue calculated'\n",
    "print('Ok!')"
   ]
  },
  {
   "cell_type": "markdown",
   "metadata": {},
   "source": [
    "## Define Agent"
   ]
  },
  {
   "cell_type": "code",
   "execution_count": 5,
   "metadata": {},
   "outputs": [
    {
     "data": {
      "text/plain": [
       "0"
      ]
     },
     "execution_count": 5,
     "metadata": {},
     "output_type": "execute_result"
    }
   ],
   "source": [
    "class DQNAgent:\n",
    "    \n",
    "    def __init__(self, network):\n",
    "        self.memory_capacity = 100000\n",
    "        self.epsilon_min = 0.01\n",
    "        self.epsilon_max = 0.01\n",
    "        self.epsilon_lambda = 0.001\n",
    "        self.batch_size = 64\n",
    "        self.epsilon = self.epsilon_max        \n",
    "        self.model = network\n",
    "        self.replays = ReplayBuffer(self.memory_capacity)\n",
    "        self.step = 0\n",
    "        \n",
    "    def policy(self, state):\n",
    "        if np.random.rand() < self.epsilon:\n",
    "            action = np.random.randint(0, network.output_shape)\n",
    "        else:\n",
    "            qvalues = self.model.predict(state)\n",
    "            action = np.argmax(qvalues)\n",
    "            self.step += 1\n",
    "        self.epsilon = self.epsilon_min + (self.epsilon_max-self.epsilon_min) * np.power(np.e, self.epsilon_lambda*self.step)\n",
    "        return action\n",
    "    \n",
    "    def add_observation(self, state, action, reward, next_state, is_done):\n",
    "        self.replays.add(state, action, reward, next_state, is_done)\n",
    "        \n",
    "    def train(self):\n",
    "        states, actions, rewards, states_next, dones = self.replays.sample(self.batch_size)\n",
    "        qvalues = self.model.predict_batch(states)\n",
    "        qvalues_next = self.model.predict_batch(states_next)\n",
    "        y = build_training_set(qvalues, qvalues_next, actions, rewards, dones)\n",
    "        self.model.train(states, y)\n",
    "    \n",
    "    \n",
    "network = QNetwork(observation_shape, n_actions)\n",
    "agent = DQNAgent(network)\n",
    "s1 = env.reset()\n",
    "a = agent.policy(s1)\n",
    "s2, r, d, _ = env.step(a)\n",
    "agent.add_observation(s1, a, r, s2, d)\n",
    "agent.train()\n",
    "a"
   ]
  },
  {
   "cell_type": "markdown",
   "metadata": {},
   "source": [
    "## Train model"
   ]
  },
  {
   "cell_type": "code",
   "execution_count": 6,
   "metadata": {},
   "outputs": [
    {
     "data": {
      "text/plain": [
       "8.0"
      ]
     },
     "execution_count": 6,
     "metadata": {},
     "output_type": "execute_result"
    }
   ],
   "source": [
    "def generate_session(env, agent, t_max=1000):\n",
    "    \n",
    "    states,actions = [],[]\n",
    "    total_reward = 0\n",
    "    \n",
    "    state = env.reset()\n",
    "    \n",
    "    for t in range(t_max):\n",
    "        \n",
    "        # a vector of action probabilities in current state\n",
    "        action = agent.policy(state)\n",
    "        next_state, reward, done, info = env.step(action)\n",
    "        \n",
    "        #record sessions like you did before\n",
    "        agent.add_observation(state, action, reward, next_state, done)\n",
    "        agent.train()\n",
    "        total_reward += reward\n",
    "        \n",
    "        state = next_state\n",
    "        if done: break\n",
    "            \n",
    "    return total_reward\n",
    "\n",
    "\n",
    "agent = DQNAgent(QNetwork(observation_shape, n_actions))\n",
    "generate_session(env, agent)"
   ]
  },
  {
   "cell_type": "markdown",
   "metadata": {},
   "source": [
    "## Training loops"
   ]
  },
  {
   "cell_type": "code",
   "execution_count": 7,
   "metadata": {},
   "outputs": [],
   "source": [
    "from IPython.display import clear_output\n",
    "\n",
    "def show_progress(batch_rewards, log, percentile, reward_range=[-990,+10]):\n",
    "    \"\"\"\n",
    "    A convenience function that displays training progress. \n",
    "    No cool math here, just charts.\n",
    "    \"\"\"\n",
    "    \n",
    "    mean_reward, max_reward = np.mean(batch_rewards), np.max(batch_rewards)\n",
    "    threshold = np.percentile(batch_rewards, percentile)\n",
    "    log.append([mean_reward, threshold])\n",
    "\n",
    "    clear_output(True)\n",
    "    print(\"mean reward = %.3f, threshold=%.3f, max=%.3f\" % (mean_reward, threshold, max_reward))\n",
    "    plt.figure(figsize=[8,4])\n",
    "    plt.subplot(1,2,1)\n",
    "    plt.plot(list(zip(*log))[0], label='Mean rewards')\n",
    "    plt.plot(list(zip(*log))[1], label='Reward thresholds')\n",
    "    plt.legend()\n",
    "    plt.grid()\n",
    "    \n",
    "    plt.subplot(1,2,2)\n",
    "    plt.hist(batch_rewards, range=reward_range);\n",
    "    plt.vlines([np.percentile(batch_rewards, percentile)], [0], [100], label=\"percentile\", color='red')\n",
    "    plt.legend()\n",
    "    plt.grid()\n",
    "\n",
    "    plt.show()"
   ]
  },
  {
   "cell_type": "code",
   "execution_count": 9,
   "metadata": {},
   "outputs": [
    {
     "name": "stdout",
     "output_type": "stream",
     "text": [
      "Step: 100, reward: 27.0\n",
      "Step: 200, reward: 15.37\n",
      "Step: 300, reward: 10.57\n",
      "Step: 400, reward: 24.02\n",
      "Step: 500, reward: 59.31\n",
      "Step: 600, reward: 125.12\n",
      "Step: 700, reward: 189.03\n",
      "Step: 800, reward: 182.79\n",
      "Step: 900, reward: 181.95\n",
      "Step: 1000, reward: 170.58\n",
      "Step: 1100, reward: 164.44\n",
      "Step: 1200, reward: 194.33\n",
      "You Won! in 1200 steps\n"
     ]
    },
    {
     "data": {
      "image/png": "[encoded data removed]",
      "text/plain": [
       "<matplotlib.figure.Figure at 0x7fb7149a7780>"
      ]
     },
     "metadata": {},
     "output_type": "display_data"
    }
   ],
   "source": [
    "n_sessions = 2000\n",
    "\n",
    "agent = DQNAgent(QNetwork(observation_shape, n_actions))\n",
    "\n",
    "#generate new sessions\n",
    "rewards = []\n",
    "for i in range(1, n_sessions+1):\n",
    "    session_reward = generate_session(env, agent)\n",
    "    rewards.append(session_reward)\n",
    "    if i % 100 == 0:\n",
    "        mean_score = np.mean(rewards[-100:])\n",
    "        print('Step: {}, reward: {}'.format(i, mean_score))\n",
    "        if mean_score > 190:\n",
    "            print(\"You Won! in {} steps\".format(i))\n",
    "            break\n",
    "    \n",
    "plt.plot(rewards)\n",
    "plt.show()"
   ]
  },
  {
   "cell_type": "code",
   "execution_count": null,
   "metadata": {},
   "outputs": [],
   "source": []
  },
  {
   "cell_type": "code",
   "execution_count": null,
   "metadata": {},
   "outputs": [],
   "source": []
  },
  {
   "cell_type": "code",
   "execution_count": null,
   "metadata": {},
   "outputs": [],
   "source": []
  }
 ],
 "metadata": {
  "kernelspec": {
   "display_name": "Python 3",
   "language": "python",
   "name": "python3"
  },
  "language_info": {
   "codemirror_mode": {
    "name": "ipython",
    "version": 3
   },
   "file_extension": ".py",
   "mimetype": "text/x-python",
   "name": "python",
   "nbconvert_exporter": "python",
   "pygments_lexer": "ipython3",
   "version": "3.6.3"
  }
 },
 "nbformat": 4,
 "nbformat_minor": 2
}
