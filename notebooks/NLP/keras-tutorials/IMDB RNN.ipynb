{
 "cells": [
  {
   "cell_type": "markdown",
   "metadata": {},
   "source": [
    "# IMDB RNN\n",
    "\n",
    "This notebook explores classification task for IMDB dataset using RNN. \n",
    "Using feed-forward NN we achived score of 84%. "
   ]
  },
  {
   "cell_type": "code",
   "execution_count": 23,
   "metadata": {},
   "outputs": [],
   "source": [
    "import matplotlib.pyplot as plt\n",
    "from keras.datasets import imdb\n",
    "from keras.preprocessing import sequence\n",
    "from keras import models, layers"
   ]
  },
  {
   "cell_type": "markdown",
   "metadata": {},
   "source": [
    "# Load and preprocess data\n",
    "\n",
    "We will padd all reviews to max_len words, since Keras requires that all reviews in the batch should have the same length"
   ]
  },
  {
   "cell_type": "code",
   "execution_count": 27,
   "metadata": {},
   "outputs": [
    {
     "name": "stdout",
     "output_type": "stream",
     "text": [
      "There are 25000 train reviews\n",
      "There are 25000 test reviews\n",
      "Pad reviews (samples x time)\n",
      "input_train shape: (25000, 500)\n",
      "input_test shape: (25000, 500)\n"
     ]
    }
   ],
   "source": [
    "# 10K words\n",
    "max_features = 10000\n",
    "# Take only 500 first characters\n",
    "max_len = 500\n",
    "batch_size = 32\n",
    "\n",
    "(train_data, y_train), (test_data, y_test) = imdb.load_data(num_words=max_features)\n",
    "print(\"There are {} train reviews\".format(len(train_data)))\n",
    "print(\"There are {} test reviews\".format(len(test_data)))\n",
    "print('Pad reviews (samples x time)')\n",
    "x_train = sequence.pad_sequences(train_data, maxlen=max_len)\n",
    "x_test = sequence.pad_sequences(test_data, maxlen=max_len)\n",
    "print('input_train shape: {}'.format(x_train.shape))\n",
    "print('input_test shape: {}'.format(x_test.shape))"
   ]
  },
  {
   "cell_type": "markdown",
   "metadata": {},
   "source": [
    "# Train"
   ]
  },
  {
   "cell_type": "markdown",
   "metadata": {},
   "source": [
    "## Helper functions"
   ]
  },
  {
   "cell_type": "code",
   "execution_count": 24,
   "metadata": {},
   "outputs": [],
   "source": [
    "def plot_loss(history):\n",
    "    history_dict = history.history\n",
    "    loss_values = history_dict['loss']\n",
    "    val_loss_values = history_dict['val_loss']\n",
    "    epochs = range(1, len(loss_values)+1)\n",
    "\n",
    "    plt.plot(epochs, loss_values, 'bo', label='Training loss')\n",
    "    plt.plot(epochs, val_loss_values, 'b', label='Validation loss')\n",
    "    plt.title('Training and Validation loss')\n",
    "    plt.xlabel('Epochs')\n",
    "    plt.ylabel('Loss')\n",
    "    plt.legend()\n",
    "    plt.show()\n",
    "    \n",
    "def plot_accuracy(history):\n",
    "    history_dict = history.history\n",
    "    acc_values = history_dict['acc']\n",
    "    val_acc_values = history_dict['val_acc']\n",
    "    epochs = range(1, len(acc_values)+1)\n",
    "\n",
    "    plt.plot(epochs, acc_values, 'bo', label='Training accuracy')\n",
    "    plt.plot(epochs, val_acc_values, 'b', label='Validation accuracy')\n",
    "    plt.title('Training and Validation accuracy')\n",
    "    plt.xlabel('Epochs')\n",
    "    plt.ylabel('Accuracy')\n",
    "    plt.legend()\n",
    "    plt.show()"
   ]
  },
  {
   "cell_type": "markdown",
   "metadata": {},
   "source": [
    "## Use SimpleRNN layers"
   ]
  },
  {
   "cell_type": "code",
   "execution_count": 22,
   "metadata": {},
   "outputs": [
    {
     "name": "stdout",
     "output_type": "stream",
     "text": [
      "Train on 20000 samples, validate on 5000 samples\n",
      "Epoch 1/10\n",
      "20000/20000 [==============================] - 74s 4ms/step - loss: 0.6680 - acc: 0.5766 - val_loss: 0.6058 - val_acc: 0.6618\n",
      "Epoch 2/10\n",
      "20000/20000 [==============================] - 72s 4ms/step - loss: 0.4205 - acc: 0.8167 - val_loss: 0.3809 - val_acc: 0.8424\n",
      "Epoch 3/10\n",
      "20000/20000 [==============================] - 83s 4ms/step - loss: 0.2899 - acc: 0.8832 - val_loss: 0.3763 - val_acc: 0.8420\n",
      "Epoch 4/10\n",
      "20000/20000 [==============================] - 73s 4ms/step - loss: 0.2232 - acc: 0.9135 - val_loss: 0.3534 - val_acc: 0.8608\n",
      "Epoch 5/10\n",
      "20000/20000 [==============================] - 76s 4ms/step - loss: 0.1641 - acc: 0.9408 - val_loss: 0.4986 - val_acc: 0.7774\n",
      "Epoch 6/10\n",
      "20000/20000 [==============================] - 74s 4ms/step - loss: 0.1189 - acc: 0.9591 - val_loss: 0.5172 - val_acc: 0.8520\n",
      "Epoch 7/10\n",
      "20000/20000 [==============================] - 76s 4ms/step - loss: 0.0860 - acc: 0.9717 - val_loss: 0.4722 - val_acc: 0.8602\n",
      "Epoch 8/10\n",
      "20000/20000 [==============================] - 74s 4ms/step - loss: 0.0619 - acc: 0.9790 - val_loss: 0.5323 - val_acc: 0.8304\n",
      "Epoch 9/10\n",
      "20000/20000 [==============================] - 77s 4ms/step - loss: 0.0496 - acc: 0.9848 - val_loss: 0.7272 - val_acc: 0.7488\n",
      "Epoch 10/10\n",
      "20000/20000 [==============================] - 79s 4ms/step - loss: 0.0310 - acc: 0.9904 - val_loss: 0.6777 - val_acc: 0.8054\n"
     ]
    }
   ],
   "source": [
    "model = models.Sequential()\n",
    "model.add(layers.Embedding(max_features, 32))\n",
    "model.add(layers.SimpleRNN(32))\n",
    "model.add(layers.Dense(1, activation='sigmoid'))\n",
    "\n",
    "model.compile(optimizer='rmsprop', loss='binary_crossentropy', metrics=['acc'])\n",
    "history = model.fit(x_train, y_train, epochs=10, batch_size=128, validation_split=0.2)"
   ]
  },
  {
   "cell_type": "markdown",
   "metadata": {},
   "source": [
    "### Plot loss"
   ]
  },
  {
   "cell_type": "code",
   "execution_count": 25,
   "metadata": {},
   "outputs": [
    {
     "data": {
      "image/png": "[encoded data removed]",
      "text/plain": [
       "<matplotlib.figure.Figure at 0x7f4e09722be0>"
      ]
     },
     "metadata": {},
     "output_type": "display_data"
    }
   ],
   "source": [
    "plot_loss(history)"
   ]
  },
  {
   "cell_type": "code",
   "execution_count": 26,
   "metadata": {},
   "outputs": [
    {
     "data": {
      "image/png": "[encoded data removed]",
      "text/plain": [
       "<matplotlib.figure.Figure at 0x7f4e085445c0>"
      ]
     },
     "metadata": {},
     "output_type": "display_data"
    }
   ],
   "source": [
    "plot_accuracy(history)"
   ]
  },
  {
   "cell_type": "code",
   "execution_count": 28,
   "metadata": {},
   "outputs": [
    {
     "name": "stdout",
     "output_type": "stream",
     "text": [
      "25000/25000 [==============================] - 16s 626us/step\n"
     ]
    },
    {
     "data": {
      "text/plain": [
       "[0.68519861616134647, 0.79920000000000002]"
      ]
     },
     "execution_count": 28,
     "metadata": {},
     "output_type": "execute_result"
    }
   ],
   "source": [
    "model.evaluate(x_test, y_test)"
   ]
  },
  {
   "cell_type": "markdown",
   "metadata": {},
   "source": [
    "The score here is 80% which is not improvement over 84% using Feed-Forward network.\n",
    "\n",
    "The problem is here with SimpleRNN layer which is doesn't really preserve history and we only selected first 500 words, not all review"
   ]
  },
  {
   "cell_type": "markdown",
   "metadata": {},
   "source": [
    "# LSTM"
   ]
  },
  {
   "cell_type": "code",
   "execution_count": 29,
   "metadata": {},
   "outputs": [
    {
     "name": "stdout",
     "output_type": "stream",
     "text": [
      "Train on 20000 samples, validate on 5000 samples\n",
      "Epoch 1/10\n",
      "20000/20000 [==============================] - 180s 9ms/step - loss: 0.4986 - acc: 0.7685 - val_loss: 0.3276 - val_acc: 0.8644\n",
      "Epoch 2/10\n",
      "20000/20000 [==============================] - 177s 9ms/step - loss: 0.2963 - acc: 0.8855 - val_loss: 0.2981 - val_acc: 0.8712\n",
      "Epoch 3/10\n",
      "20000/20000 [==============================] - 178s 9ms/step - loss: 0.2398 - acc: 0.9082 - val_loss: 0.3374 - val_acc: 0.8652\n",
      "Epoch 4/10\n",
      "20000/20000 [==============================] - 179s 9ms/step - loss: 0.2041 - acc: 0.9240 - val_loss: 0.3557 - val_acc: 0.8414\n",
      "Epoch 5/10\n",
      "20000/20000 [==============================] - 180s 9ms/step - loss: 0.1753 - acc: 0.9340 - val_loss: 0.3106 - val_acc: 0.8838\n",
      "Epoch 6/10\n",
      "20000/20000 [==============================] - 179s 9ms/step - loss: 0.1615 - acc: 0.9430 - val_loss: 0.3387 - val_acc: 0.8516\n",
      "Epoch 7/10\n",
      "20000/20000 [==============================] - 182s 9ms/step - loss: 0.1429 - acc: 0.9505 - val_loss: 0.3706 - val_acc: 0.8538\n",
      "Epoch 8/10\n",
      "20000/20000 [==============================] - 180s 9ms/step - loss: 0.1340 - acc: 0.9521 - val_loss: 0.3965 - val_acc: 0.8730\n",
      "Epoch 9/10\n",
      "20000/20000 [==============================] - 186s 9ms/step - loss: 0.1244 - acc: 0.9580 - val_loss: 0.3541 - val_acc: 0.8790\n",
      "Epoch 10/10\n",
      "20000/20000 [==============================] - 188s 9ms/step - loss: 0.1100 - acc: 0.9621 - val_loss: 0.3506 - val_acc: 0.8840\n",
      "25000/25000 [==============================] - 41s 2ms/step\n"
     ]
    },
    {
     "data": {
      "text/plain": [
       "[0.40653406555652616, 0.86724000000000001]"
      ]
     },
     "execution_count": 29,
     "metadata": {},
     "output_type": "execute_result"
    }
   ],
   "source": [
    "model = models.Sequential()\n",
    "model.add(layers.Embedding(max_features, 32))\n",
    "model.add(layers.LSTM(32))\n",
    "model.add(layers.Dense(1, activation='sigmoid'))\n",
    "\n",
    "model.compile(optimizer='rmsprop', loss='binary_crossentropy', metrics=['acc'])\n",
    "history = model.fit(x_train, y_train, epochs=10, batch_size=128, validation_split=0.2)\n",
    "model.evaluate(x_test, y_test)"
   ]
  },
  {
   "cell_type": "code",
   "execution_count": 30,
   "metadata": {},
   "outputs": [
    {
     "data": {
      "image/png": "[encoded data removed]",
      "text/plain": [
       "<matplotlib.figure.Figure at 0x7f4e084c8f98>"
      ]
     },
     "metadata": {},
     "output_type": "display_data"
    },
    {
     "data": {
      "image/png": "[encoded data removed]",
      "text/plain": [
       "<matplotlib.figure.Figure at 0x7f4e083f7710>"
      ]
     },
     "metadata": {},
     "output_type": "display_data"
    }
   ],
   "source": [
    "plot_loss(history)\n",
    "plot_accuracy(history)"
   ]
  },
  {
   "cell_type": "markdown",
   "metadata": {},
   "source": [
    "The best score is 86% which is improvement over SimpleRNN and Feed-Forward. But still it is far from the state of the art which is ~94%\n",
    "\n",
    "Some additional notes:\n",
    "\n",
    "  * We have a problem with overfitting.\n",
    "  * No hyperparameters tuning\n",
    "\n",
    "But the biggest problem is that analyzing the global, long-term structure (what LSTM's is good at) isn't helpful for sentiment analysis."
   ]
  },
  {
   "cell_type": "markdown",
   "metadata": {},
   "source": [
    "# Bidirectional RNN\n",
    "\n",
    "This type of layer is frequently used for NLP tasks."
   ]
  },
  {
   "cell_type": "code",
   "execution_count": 31,
   "metadata": {},
   "outputs": [
    {
     "name": "stdout",
     "output_type": "stream",
     "text": [
      "Train on 20000 samples, validate on 5000 samples\n",
      "Epoch 1/10\n",
      "20000/20000 [==============================] - 358s 18ms/step - loss: 0.5305 - acc: 0.7455 - val_loss: 0.3864 - val_acc: 0.8512\n",
      "Epoch 2/10\n",
      "20000/20000 [==============================] - 328s 16ms/step - loss: 0.3211 - acc: 0.8723 - val_loss: 0.3358 - val_acc: 0.8738\n",
      "Epoch 3/10\n",
      "20000/20000 [==============================] - 341s 17ms/step - loss: 0.2441 - acc: 0.9067 - val_loss: 0.3003 - val_acc: 0.8744\n",
      "Epoch 4/10\n",
      "20000/20000 [==============================] - 349s 17ms/step - loss: 0.2076 - acc: 0.9231 - val_loss: 0.4181 - val_acc: 0.8390\n",
      "Epoch 5/10\n",
      "20000/20000 [==============================] - 329s 16ms/step - loss: 0.1860 - acc: 0.9323 - val_loss: 0.3280 - val_acc: 0.8766\n",
      "Epoch 6/10\n",
      "20000/20000 [==============================] - 333s 17ms/step - loss: 0.1609 - acc: 0.9407 - val_loss: 0.3480 - val_acc: 0.8714\n",
      "Epoch 7/10\n",
      "20000/20000 [==============================] - 332s 17ms/step - loss: 0.1483 - acc: 0.9462 - val_loss: 0.4692 - val_acc: 0.8636\n",
      "Epoch 8/10\n",
      "20000/20000 [==============================] - 336s 17ms/step - loss: 0.1354 - acc: 0.9534 - val_loss: 0.3804 - val_acc: 0.8556\n",
      "Epoch 9/10\n",
      "20000/20000 [==============================] - 338s 17ms/step - loss: 0.1246 - acc: 0.9565 - val_loss: 0.5817 - val_acc: 0.8450\n",
      "Epoch 10/10\n",
      "20000/20000 [==============================] - 339s 17ms/step - loss: 0.1176 - acc: 0.9605 - val_loss: 0.5071 - val_acc: 0.8360\n",
      "25000/25000 [==============================] - 76s 3ms/step\n"
     ]
    },
    {
     "data": {
      "text/plain": [
       "[0.52319401624202733, 0.83311999999999997]"
      ]
     },
     "execution_count": 31,
     "metadata": {},
     "output_type": "execute_result"
    }
   ],
   "source": [
    "model = models.Sequential()\n",
    "model.add(layers.Embedding(max_features, 32))\n",
    "model.add(layers.Bidirectional(layers.LSTM(32)))\n",
    "model.add(layers.Dense(1, activation='sigmoid'))\n",
    "\n",
    "model.compile(optimizer='rmsprop', loss='binary_crossentropy', metrics=['acc'])\n",
    "history = model.fit(x_train, y_train, epochs=10, batch_size=128, validation_split=0.2)\n",
    "model.evaluate(x_test, y_test)"
   ]
  }
 ],
 "metadata": {
  "kernelspec": {
   "display_name": "Python [default]",
   "language": "python",
   "name": "python3"
  },
  "language_info": {
   "codemirror_mode": {
    "name": "ipython",
    "version": 3
   },
   "file_extension": ".py",
   "mimetype": "text/x-python",
   "name": "python",
   "nbconvert_exporter": "python",
   "pygments_lexer": "ipython3",
   "version": "3.5.2"
  }
 },
 "nbformat": 4,
 "nbformat_minor": 2
}
