{
 "cells": [
  {
   "cell_type": "markdown",
   "metadata": {},
   "source": [
    "# Newswires Classification\n",
    "\n",
    "This notebook uses Reuters dataset. In this task we want to classify news into one of the 46 mutually exclusive topics."
   ]
  },
  {
   "cell_type": "code",
   "execution_count": 16,
   "metadata": {},
   "outputs": [],
   "source": [
    "import copy\n",
    "import numpy as np\n",
    "import matplotlib.pyplot as plt\n",
    "from keras.utils.np_utils import to_categorical\n",
    "from keras.datasets import reuters\n",
    "from keras import models, layers"
   ]
  },
  {
   "cell_type": "markdown",
   "metadata": {},
   "source": [
    "# Import dataset\n",
    "\n",
    "The data in this dataset is already preprocessed. Each word is replaced with word index, "
   ]
  },
  {
   "cell_type": "code",
   "execution_count": 3,
   "metadata": {},
   "outputs": [
    {
     "name": "stdout",
     "output_type": "stream",
     "text": [
      "Downloading data from https://s3.amazonaws.com/text-datasets/reuters.npz\n",
      "2113536/2110848 [==============================] - 2s 1us/step\n",
      "There are 8982 training news\n",
      "There are 2246 test news\n"
     ]
    }
   ],
   "source": [
    "(train_data, train_labels), (test_data, test_labels) = reuters.load_data(num_words=10000)\n",
    "print('There are {} training news'.format(len(train_data)))\n",
    "print('There are {} test news'.format(len(test_data)))"
   ]
  },
  {
   "cell_type": "markdown",
   "metadata": {},
   "source": [
    "## Decoding news"
   ]
  },
  {
   "cell_type": "code",
   "execution_count": 4,
   "metadata": {},
   "outputs": [
    {
     "name": "stdout",
     "output_type": "stream",
     "text": [
      "Downloading data from https://s3.amazonaws.com/text-datasets/reuters_word_index.json\n",
      "557056/550378 [==============================] - 1s 2us/step\n",
      "? ? ? said as a result of its december acquisition of space co it expects earnings per share in 1987 of 1 15 to 1 30 dlrs per share up from 70 cts in 1986 the company said pretax net should rise to nine to 10 mln dlrs from six mln dlrs in 1986 and rental operation revenues to 19 to 22 mln dlrs from 12 5 mln dlrs it said cash flow per share this year should be 2 50 to three dlrs reuter 3\n"
     ]
    }
   ],
   "source": [
    "word_index = reuters.get_word_index()\n",
    "reverse_word_index = dict([(value, key) for (key, value) in word_index.items()])\n",
    "decoded_news = ' '.join([reverse_word_index.get(i-3, '?') for i in train_data[0]])\n",
    "print(decoded_news)"
   ]
  },
  {
   "cell_type": "markdown",
   "metadata": {},
   "source": [
    "# Vectorize data"
   ]
  },
  {
   "cell_type": "code",
   "execution_count": 9,
   "metadata": {},
   "outputs": [],
   "source": [
    "def vectorize_sequences(reviews, dimension=10000):\n",
    "    results = np.zeros((len(reviews), dimension))\n",
    "    for i, review in enumerate(reviews):\n",
    "        results[i, review] = 1\n",
    "    return results\n",
    "\n",
    "x = vectorize_sequences(train_data)\n",
    "y = to_categorical(train_labels)\n",
    "x_val = x[:1000]\n",
    "y_val = y[:1000]\n",
    "x_train = x[1000:]\n",
    "y_train = y[1000:]\n",
    "\n",
    "x_test = vectorize_sequences(test_data)\n",
    "y_test = to_categorical(test_labels)"
   ]
  },
  {
   "cell_type": "markdown",
   "metadata": {},
   "source": [
    "# Build classifier"
   ]
  },
  {
   "cell_type": "code",
   "execution_count": 10,
   "metadata": {},
   "outputs": [
    {
     "name": "stdout",
     "output_type": "stream",
     "text": [
      "WARNING:tensorflow:From /home/klangner/bin/anaconda3/envs/tensorflow/lib/python3.5/site-packages/keras/backend/tensorflow_backend.py:2885: calling reduce_sum (from tensorflow.python.ops.math_ops) with keep_dims is deprecated and will be removed in a future version.\n",
      "Instructions for updating:\n",
      "keep_dims is deprecated, use keepdims instead\n",
      "WARNING:tensorflow:From /home/klangner/bin/anaconda3/envs/tensorflow/lib/python3.5/site-packages/keras/backend/tensorflow_backend.py:1349: calling reduce_mean (from tensorflow.python.ops.math_ops) with keep_dims is deprecated and will be removed in a future version.\n",
      "Instructions for updating:\n",
      "keep_dims is deprecated, use keepdims instead\n"
     ]
    }
   ],
   "source": [
    "model = models.Sequential()\n",
    "model.add(layers.Dense(64, activation='relu', input_shape=[10000]))\n",
    "model.add(layers.Dense(64, activation='relu'))\n",
    "model.add(layers.Dense(46, activation='sigmoid'))\n",
    "\n",
    "model.compile(optimizer='rmsprop', loss='categorical_crossentropy', metrics=['accuracy'])"
   ]
  },
  {
   "cell_type": "markdown",
   "metadata": {},
   "source": [
    "## Train the model"
   ]
  },
  {
   "cell_type": "code",
   "execution_count": 11,
   "metadata": {},
   "outputs": [
    {
     "name": "stdout",
     "output_type": "stream",
     "text": [
      "Train on 7982 samples, validate on 1000 samples\n",
      "Epoch 1/20\n",
      "7982/7982 [==============================] - 3s 348us/step - loss: 3.2535 - acc: 0.4630 - val_loss: 2.7512 - val_acc: 0.4680\n",
      "Epoch 2/20\n",
      "7982/7982 [==============================] - 2s 270us/step - loss: 2.3351 - acc: 0.3715 - val_loss: 2.0680 - val_acc: 0.3540\n",
      "Epoch 3/20\n",
      "7982/7982 [==============================] - 2s 226us/step - loss: 1.8074 - acc: 0.3514 - val_loss: 1.7869 - val_acc: 0.3540\n",
      "Epoch 4/20\n",
      "7982/7982 [==============================] - 2s 224us/step - loss: 1.5501 - acc: 0.3514 - val_loss: 1.5862 - val_acc: 0.3540\n",
      "Epoch 5/20\n",
      "7982/7982 [==============================] - 2s 265us/step - loss: 1.2506 - acc: 0.3515 - val_loss: 1.3887 - val_acc: 0.3540\n",
      "Epoch 6/20\n",
      "7982/7982 [==============================] - 2s 279us/step - loss: 1.0298 - acc: 0.4434 - val_loss: 1.0498 - val_acc: 0.7780\n",
      "Epoch 7/20\n",
      "7982/7982 [==============================] - 2s 255us/step - loss: 0.6096 - acc: 0.8705 - val_loss: 0.9296 - val_acc: 0.8130\n",
      "Epoch 8/20\n",
      "7982/7982 [==============================] - 2s 242us/step - loss: 0.4608 - acc: 0.9079 - val_loss: 0.9114 - val_acc: 0.8070\n",
      "Epoch 9/20\n",
      "7982/7982 [==============================] - 2s 252us/step - loss: 0.3758 - acc: 0.9214 - val_loss: 0.8850 - val_acc: 0.8030\n",
      "Epoch 10/20\n",
      "7982/7982 [==============================] - 2s 257us/step - loss: 0.3161 - acc: 0.9318 - val_loss: 0.8734 - val_acc: 0.8160\n",
      "Epoch 11/20\n",
      "7982/7982 [==============================] - 2s 253us/step - loss: 0.2721 - acc: 0.9391 - val_loss: 0.8963 - val_acc: 0.8030\n",
      "Epoch 12/20\n",
      "7982/7982 [==============================] - 2s 273us/step - loss: 0.2325 - acc: 0.9453 - val_loss: 0.8566 - val_acc: 0.8180\n",
      "Epoch 13/20\n",
      "7982/7982 [==============================] - 2s 257us/step - loss: 0.2077 - acc: 0.9481 - val_loss: 0.8758 - val_acc: 0.8170\n",
      "Epoch 14/20\n",
      "7982/7982 [==============================] - 2s 256us/step - loss: 0.1843 - acc: 0.9538 - val_loss: 0.9214 - val_acc: 0.8050\n",
      "Epoch 15/20\n",
      "7982/7982 [==============================] - 2s 273us/step - loss: 0.1667 - acc: 0.9549 - val_loss: 0.9111 - val_acc: 0.8190\n",
      "Epoch 16/20\n",
      "7982/7982 [==============================] - 2s 266us/step - loss: 0.1548 - acc: 0.9545 - val_loss: 0.9489 - val_acc: 0.8070\n",
      "Epoch 17/20\n",
      "7982/7982 [==============================] - 2s 254us/step - loss: 0.1413 - acc: 0.9574 - val_loss: 0.9680 - val_acc: 0.8010\n",
      "Epoch 18/20\n",
      "7982/7982 [==============================] - 2s 309us/step - loss: 0.1353 - acc: 0.9573 - val_loss: 0.9687 - val_acc: 0.8120\n",
      "Epoch 19/20\n",
      "7982/7982 [==============================] - 2s 292us/step - loss: 0.1293 - acc: 0.9572 - val_loss: 1.0005 - val_acc: 0.8040\n",
      "Epoch 20/20\n",
      "7982/7982 [==============================] - 2s 242us/step - loss: 0.1254 - acc: 0.9584 - val_loss: 1.0116 - val_acc: 0.8000\n"
     ]
    }
   ],
   "source": [
    "history = model.fit(x_train, y_train, epochs=20, batch_size=512, validation_data=(x_val, y_val))"
   ]
  },
  {
   "cell_type": "markdown",
   "metadata": {},
   "source": [
    "# Plot the history of the training\n",
    "## Loss\n",
    "\n",
    "Lets first looks at the loss function"
   ]
  },
  {
   "cell_type": "code",
   "execution_count": 12,
   "metadata": {},
   "outputs": [
    {
     "data": {
      "image/png": "[encoded data removed]",
      "text/plain": [
       "<matplotlib.figure.Figure at 0x7ffba39ff1d0>"
      ]
     },
     "metadata": {},
     "output_type": "display_data"
    }
   ],
   "source": [
    "history_dict = history.history\n",
    "loss_values = history_dict['loss']\n",
    "val_loss_values = history_dict['val_loss']\n",
    "epochs = range(1, len(loss_values)+1)\n",
    "\n",
    "plt.plot(epochs, loss_values, 'bo', label='Training loss')\n",
    "plt.plot(epochs, val_loss_values, 'b', label='Validation loss')\n",
    "plt.title('Training and Validation loss')\n",
    "plt.xlabel('Epochs')\n",
    "plt.ylabel('Loss')\n",
    "plt.legend()\n",
    "plt.show()"
   ]
  },
  {
   "cell_type": "markdown",
   "metadata": {},
   "source": [
    "## Accuracy\n",
    "\n",
    "And now let's check accuracy"
   ]
  },
  {
   "cell_type": "code",
   "execution_count": 13,
   "metadata": {},
   "outputs": [
    {
     "data": {
      "image/png": "[encoded data removed]",
      "text/plain": [
       "<matplotlib.figure.Figure at 0x7ffba3c950f0>"
      ]
     },
     "metadata": {},
     "output_type": "display_data"
    }
   ],
   "source": [
    "history_dict = history.history\n",
    "acc_values = history_dict['acc']\n",
    "val_acc_values = history_dict['val_acc']\n",
    "epochs = range(1, len(acc_values)+1)\n",
    "\n",
    "plt.plot(epochs, acc_values, 'bo', label='Training accuracy')\n",
    "plt.plot(epochs, val_acc_values, 'b', label='Validation accuracy')\n",
    "plt.title('Training and Validation accuracy')\n",
    "plt.xlabel('Epochs')\n",
    "plt.ylabel('Accuracy')\n",
    "plt.legend()\n",
    "plt.show()"
   ]
  },
  {
   "cell_type": "code",
   "execution_count": 15,
   "metadata": {},
   "outputs": [
    {
     "name": "stdout",
     "output_type": "stream",
     "text": [
      "Train on 7982 samples, validate on 1000 samples\n",
      "Epoch 1/8\n",
      "7982/7982 [==============================] - 2s 260us/step - loss: 0.1031 - acc: 0.9589 - val_loss: 1.0570 - val_acc: 0.8010\n",
      "Epoch 2/8\n",
      "7982/7982 [==============================] - 2s 244us/step - loss: 0.1029 - acc: 0.9573 - val_loss: 1.0969 - val_acc: 0.8040\n",
      "Epoch 3/8\n",
      "7982/7982 [==============================] - 2s 259us/step - loss: 0.0979 - acc: 0.9597 - val_loss: 1.0668 - val_acc: 0.8100\n",
      "Epoch 4/8\n",
      "7982/7982 [==============================] - 2s 231us/step - loss: 0.0964 - acc: 0.9599 - val_loss: 1.1243 - val_acc: 0.7920\n",
      "Epoch 5/8\n",
      "7982/7982 [==============================] - 2s 271us/step - loss: 0.0969 - acc: 0.9592 - val_loss: 1.1091 - val_acc: 0.7990\n",
      "Epoch 6/8\n",
      "7982/7982 [==============================] - 2s 254us/step - loss: 0.0964 - acc: 0.9588 - val_loss: 1.1897 - val_acc: 0.7840\n",
      "Epoch 7/8\n",
      "7982/7982 [==============================] - 2s 269us/step - loss: 0.0946 - acc: 0.9575 - val_loss: 1.1551 - val_acc: 0.7960\n",
      "Epoch 8/8\n",
      "7982/7982 [==============================] - 2s 258us/step - loss: 0.0942 - acc: 0.9599 - val_loss: 1.1374 - val_acc: 0.8030\n",
      "2246/2246 [==============================] - 1s 287us/step\n"
     ]
    },
    {
     "data": {
      "text/plain": [
       "[1.3414960932965163, 0.78183437221727514]"
      ]
     },
     "execution_count": 15,
     "metadata": {},
     "output_type": "execute_result"
    }
   ],
   "source": [
    "history = model.fit(x_train, y_train, epochs=8, batch_size=512, validation_data=(x_val, y_val))\n",
    "model.evaluate(x_test, y_test)"
   ]
  },
  {
   "cell_type": "markdown",
   "metadata": {},
   "source": [
    "For this dataset the base score is 19%. Our (poor) result is 78%."
   ]
  },
  {
   "cell_type": "markdown",
   "metadata": {},
   "source": [
    "## Baseline"
   ]
  },
  {
   "cell_type": "code",
   "execution_count": 21,
   "metadata": {},
   "outputs": [
    {
     "name": "stdout",
     "output_type": "stream",
     "text": [
      "Base score: {} 0.18121104185218165\n"
     ]
    }
   ],
   "source": [
    "test_labels_copy = copy.copy(test_labels)\n",
    "np.random.shuffle(test_labels_copy)\n",
    "hits = np.array(test_labels) == np.array(test_labels_copy)\n",
    "print('Base score: {}', float(np.sum(hits)) / len(test_labels))"
   ]
  }
 ],
 "metadata": {
  "kernelspec": {
   "display_name": "Python 3",
   "language": "python",
   "name": "python3"
  },
  "language_info": {
   "codemirror_mode": {
    "name": "ipython",
    "version": 3
   },
   "file_extension": ".py",
   "mimetype": "text/x-python",
   "name": "python",
   "nbconvert_exporter": "python",
   "pygments_lexer": "ipython3",
   "version": "3.6.3"
  }
 },
 "nbformat": 4,
 "nbformat_minor": 2
}
