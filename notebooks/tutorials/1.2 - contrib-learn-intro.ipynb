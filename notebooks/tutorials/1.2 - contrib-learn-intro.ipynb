{
 "cells": [
  {
   "cell_type": "markdown",
   "metadata": {},
   "source": [
    "# Contrib Learn API\n",
    "\n",
    "**tf.contrib.learn** is high level API which simplifies the mechanics of machine learning"
   ]
  },
  {
   "cell_type": "code",
   "execution_count": 1,
   "metadata": {
    "collapsed": true
   },
   "outputs": [],
   "source": [
    "import numpy as np\n",
    "import tensorflow as tf"
   ]
  },
  {
   "cell_type": "markdown",
   "metadata": {},
   "source": [
    "In this example we will build 1-dimensional linear regression model.\n",
    "\n",
    "First define features."
   ]
  },
  {
   "cell_type": "code",
   "execution_count": 2,
   "metadata": {
    "collapsed": true
   },
   "outputs": [],
   "source": [
    "features = [tf.contrib.layers.real_valued_column(\"x\", dimension=1)]"
   ]
  },
  {
   "cell_type": "markdown",
   "metadata": {},
   "source": [
    "Next create LinearRegression estimator"
   ]
  },
  {
   "cell_type": "code",
   "execution_count": 3,
   "metadata": {},
   "outputs": [
    {
     "name": "stdout",
     "output_type": "stream",
     "text": [
      "INFO:tensorflow:Using default config.\n",
      "INFO:tensorflow:Using config: {'_task_type': None, '_task_id': 0, '_cluster_spec': <tensorflow.python.training.server_lib.ClusterSpec object at 0x7f56ef135e10>, '_master': '', '_num_ps_replicas': 0, '_num_worker_replicas': 0, '_environment': 'local', '_is_chief': True, '_evaluation_master': '', '_tf_config': gpu_options {\n",
      "  per_process_gpu_memory_fraction: 1\n",
      "}\n",
      ", '_tf_random_seed': None, '_save_summary_steps': 100, '_save_checkpoints_secs': 600, '_save_checkpoints_steps': None, '_keep_checkpoint_max': 5, '_keep_checkpoint_every_n_hours': 10000, '_model_dir': None}\n",
      "WARNING:tensorflow:Using temporary folder as model directory: /tmp/tmplh29c8f6\n"
     ]
    }
   ],
   "source": [
    "estimator = tf.contrib.learn.LinearRegressor(feature_columns=features)"
   ]
  },
  {
   "cell_type": "markdown",
   "metadata": {},
   "source": [
    "Create input data"
   ]
  },
  {
   "cell_type": "code",
   "execution_count": 4,
   "metadata": {
    "collapsed": true
   },
   "outputs": [],
   "source": [
    "x = np.array([1., 2., 3., 4.])\n",
    "y = np.array([0., -1., -2., -3.])\n",
    "input_fn = tf.contrib.learn.io.numpy_input_fn({\"x\":x}, y, batch_size=4, num_epochs=1000)"
   ]
  },
  {
   "cell_type": "markdown",
   "metadata": {},
   "source": [
    "Now we are ready to train model"
   ]
  },
  {
   "cell_type": "code",
   "execution_count": 6,
   "metadata": {},
   "outputs": [
    {
     "name": "stdout",
     "output_type": "stream",
     "text": [
      "WARNING:tensorflow:Rank of input Tensor (1) should be the same as output_rank (2) for column. Will attempt to expand dims. It is highly recommended that you resize your input, as this behavior may change.\n",
      "WARNING:tensorflow:From /home/klangner/bin/anaconda3/envs/tensorflow/lib/python3.6/site-packages/tensorflow/contrib/learn/python/learn/estimators/head.py:615: scalar_summary (from tensorflow.python.ops.logging_ops) is deprecated and will be removed after 2016-11-30.\n",
      "Instructions for updating:\n",
      "Please switch to tf.summary.scalar. Note that tf.summary.scalar uses the node name instead of the tag. This means that TensorFlow will automatically de-duplicate summary names based on the scope they are created in. Also, passing a tensor or list of tags to a scalar summary op is no longer supported.\n",
      "INFO:tensorflow:Create CheckpointSaverHook.\n",
      "INFO:tensorflow:Restoring parameters from /tmp/tmplh29c8f6/model.ckpt-1000\n",
      "INFO:tensorflow:Saving checkpoints for 1001 into /tmp/tmplh29c8f6/model.ckpt.\n",
      "INFO:tensorflow:loss = 3.09265e-09, step = 1001\n",
      "INFO:tensorflow:global_step/sec: 1494.11\n",
      "INFO:tensorflow:loss = 4.55971e-10, step = 1101 (0.069 sec)\n",
      "INFO:tensorflow:global_step/sec: 1465.94\n",
      "INFO:tensorflow:loss = 9.53708e-11, step = 1201 (0.067 sec)\n",
      "INFO:tensorflow:global_step/sec: 1471.25\n",
      "INFO:tensorflow:loss = 1.09157e-11, step = 1301 (0.069 sec)\n",
      "INFO:tensorflow:global_step/sec: 1596.84\n",
      "INFO:tensorflow:loss = 1.74794e-12, step = 1401 (0.067 sec)\n",
      "INFO:tensorflow:global_step/sec: 1279.23\n",
      "INFO:tensorflow:loss = 3.30402e-13, step = 1501 (0.072 sec)\n",
      "INFO:tensorflow:global_step/sec: 1486.91\n",
      "INFO:tensorflow:loss = 2.45137e-13, step = 1601 (0.067 sec)\n",
      "INFO:tensorflow:global_step/sec: 1678.58\n",
      "INFO:tensorflow:loss = 1.46549e-13, step = 1701 (0.060 sec)\n",
      "INFO:tensorflow:global_step/sec: 2061.11\n",
      "INFO:tensorflow:loss = 1.46549e-13, step = 1801 (0.049 sec)\n",
      "INFO:tensorflow:global_step/sec: 2607.04\n",
      "INFO:tensorflow:loss = 7.81597e-14, step = 1901 (0.038 sec)\n",
      "INFO:tensorflow:Saving checkpoints for 2000 into /tmp/tmplh29c8f6/model.ckpt.\n",
      "INFO:tensorflow:Loss for final step: 2.00728e-13.\n"
     ]
    },
    {
     "data": {
      "text/plain": [
       "LinearRegressor(params={'head': <tensorflow.contrib.learn.python.learn.estimators.head._RegressionHead object at 0x7f56ef135f60>, 'feature_columns': [_RealValuedColumn(column_name='x', dimension=1, default_value=None, dtype=tf.float32, normalizer=None)], 'optimizer': None, 'gradient_clip_norm': None, 'joint_weights': False})"
      ]
     },
     "execution_count": 6,
     "metadata": {},
     "output_type": "execute_result"
    }
   ],
   "source": [
    "estimator.fit(input_fn=input_fn, steps=1000)"
   ]
  },
  {
   "cell_type": "code",
   "execution_count": 8,
   "metadata": {},
   "outputs": [
    {
     "name": "stdout",
     "output_type": "stream",
     "text": [
      "WARNING:tensorflow:Rank of input Tensor (1) should be the same as output_rank (2) for column. Will attempt to expand dims. It is highly recommended that you resize your input, as this behavior may change.\n",
      "WARNING:tensorflow:From /home/klangner/bin/anaconda3/envs/tensorflow/lib/python3.6/site-packages/tensorflow/contrib/learn/python/learn/estimators/head.py:615: scalar_summary (from tensorflow.python.ops.logging_ops) is deprecated and will be removed after 2016-11-30.\n",
      "Instructions for updating:\n",
      "Please switch to tf.summary.scalar. Note that tf.summary.scalar uses the node name instead of the tag. This means that TensorFlow will automatically de-duplicate summary names based on the scope they are created in. Also, passing a tensor or list of tags to a scalar summary op is no longer supported.\n",
      "INFO:tensorflow:Starting evaluation at 2017-05-21-18:54:31\n",
      "INFO:tensorflow:Restoring parameters from /tmp/tmplh29c8f6/model.ckpt-2000\n",
      "INFO:tensorflow:Finished evaluation at 2017-05-21-18:54:32\n",
      "INFO:tensorflow:Saving dict for global step 2000: global_step = 2000, loss = 1.18128e-13\n",
      "WARNING:tensorflow:Skipping summary for global_step, must be a float or np.float32.\n",
      "{'loss': 1.1812773e-13, 'global_step': 2000}\n"
     ]
    }
   ],
   "source": [
    "# Evaluate model\n",
    "print(estimator.evaluate(input_fn=input_fn))"
   ]
  },
  {
   "cell_type": "code",
   "execution_count": 17,
   "metadata": {},
   "outputs": [
    {
     "name": "stdout",
     "output_type": "stream",
     "text": [
      "[ 0.99999928]\n",
      "[[-0.9999997]]\n"
     ]
    }
   ],
   "source": [
    "# And print model parameters\n",
    "# print(estimator.get_variable_names())\n",
    "print(estimator.get_variable_value('linear/bias_weight'))\n",
    "print(estimator.get_variable_value('linear/x/weight'))"
   ]
  }
 ],
 "metadata": {
  "kernelspec": {
   "display_name": "Python 3",
   "language": "python",
   "name": "python3"
  },
  "language_info": {
   "codemirror_mode": {
    "name": "ipython",
    "version": 3
   },
   "file_extension": ".py",
   "mimetype": "text/x-python",
   "name": "python",
   "nbconvert_exporter": "python",
   "pygments_lexer": "ipython3",
   "version": "3.6.1"
  }
 },
 "nbformat": 4,
 "nbformat_minor": 2
}
