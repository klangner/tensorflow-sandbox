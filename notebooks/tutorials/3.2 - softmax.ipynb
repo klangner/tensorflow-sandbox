{
 "cells": [
  {
   "cell_type": "markdown",
   "metadata": {},
   "source": [
    "# Softmax\n",
    "\n",
    "Softmax is used for multiclass classification. The output from this function is probability of belonging to the given class.\n",
    "\n",
    "This notebook also uses multivariate data (2 dimensions)"
   ]
  },
  {
   "cell_type": "code",
   "execution_count": 1,
   "metadata": {
    "collapsed": true
   },
   "outputs": [],
   "source": [
    "import numpy as np\n",
    "import matplotlib.pyplot as plt\n",
    "import tensorflow as tf"
   ]
  },
  {
   "cell_type": "markdown",
   "metadata": {},
   "source": [
    "## Lets generate some artificial data"
   ]
  },
  {
   "cell_type": "code",
   "execution_count": 21,
   "metadata": {
    "collapsed": false
   },
   "outputs": [
    {
     "data": {
      "image/png": "[encoded data removed]",
      "text/plain": [
       "<matplotlib.figure.Figure at 0x7f9201655978>"
      ]
     },
     "metadata": {},
     "output_type": "display_data"
    }
   ],
   "source": [
    "x1_label0 = np.random.normal(1, 1, (100, 1))\n",
    "x2_label0 = np.random.normal(1, 1, (100, 1))\n",
    "x1_label1 = np.random.normal(5, 1, (100, 1))\n",
    "x2_label1 = np.random.normal(4, 1, (100, 1))\n",
    "x1_label2 = np.random.normal(8, 1, (100, 1))\n",
    "x2_label2 = np.random.normal(0, 1, (100, 1))\n",
    "\n",
    "plt.scatter(x1_label0, x2_label0, c='r', marker='x', s=60)\n",
    "plt.scatter(x1_label1, x2_label1, c='g', marker='x', s=60)\n",
    "plt.scatter(x1_label2, x2_label2, c='b', marker='x', s=60)\n",
    "plt.show()"
   ]
  },
  {
   "cell_type": "markdown",
   "metadata": {},
   "source": [
    "## And build traning set from it\n",
    "The label needs 3 columns (one for each class)."
   ]
  },
  {
   "cell_type": "code",
   "execution_count": 39,
   "metadata": {
    "collapsed": false
   },
   "outputs": [],
   "source": [
    "xs_label0 = np.hstack((x1_label0, x2_label0))\n",
    "xs_label1 = np.hstack((x1_label1, x2_label1))\n",
    "xs_label2 = np.hstack((x1_label2, x2_label2))\n",
    "\n",
    "xs = np.vstack((xs_label0, xs_label1, xs_label2))\n",
    "\n",
    "labels = np.matrix([[1., 0., 0.]] * len(x1_label0) + [[0., 1., 0.]] * len(x1_label1) + [[0., 0., 1.]] * len(x1_label2))\n",
    "arr = np.arange(xs.shape[0])\n",
    "np.random.shuffle(arr)\n",
    "xs = xs[arr, :]\n",
    "labels = labels[arr, :]\n",
    "\n",
    "train_size, num_features = xs.shape"
   ]
  },
  {
   "cell_type": "markdown",
   "metadata": {},
   "source": [
    "## Build test set\n",
    "\n",
    "This time we will use separate test set for model evaluation"
   ]
  },
  {
   "cell_type": "code",
   "execution_count": 38,
   "metadata": {
    "collapsed": true
   },
   "outputs": [],
   "source": [
    "test_x1_label0 = np.random.normal(1, 1, (10, 1))\n",
    "test_x2_label0 = np.random.normal(1, 1, (10, 1))\n",
    "test_x1_label1 = np.random.normal(5, 1, (10, 1))\n",
    "test_x2_label1 = np.random.normal(4, 1, (10, 1))\n",
    "test_x1_label2 = np.random.normal(8, 1, (10, 1))\n",
    "test_x2_label2 = np.random.normal(0, 1, (10, 1))\n",
    "test_xs_label0 = np.hstack((test_x1_label0, test_x2_label0))\n",
    "test_xs_label1 = np.hstack((test_x1_label1, test_x2_label1))\n",
    "test_xs_label2 = np.hstack((test_x1_label2, test_x2_label2))\n",
    "test_xs = np.vstack((test_xs_label0, test_xs_label1, test_xs_label2))\n",
    "\n",
    "test_labels = np.matrix([[1., 0., 0.]] * 10 + [[0., 1., 0.]] * 10 + [[0., 0., 1.]] * 10)"
   ]
  },
  {
   "cell_type": "markdown",
   "metadata": {},
   "source": [
    "## Prepare TF model with softmax regression"
   ]
  },
  {
   "cell_type": "code",
   "execution_count": 43,
   "metadata": {
    "collapsed": false
   },
   "outputs": [],
   "source": [
    "learning_rate = 0.01\n",
    "training_epoch = 1000\n",
    "num_labels = 3\n",
    "batch_size = 100\n",
    "\n",
    "X = tf.placeholder(tf.float32, shape=[None, num_features])\n",
    "Y = tf.placeholder(tf.float32, shape=[None, num_labels])\n",
    "\n",
    "# Model \n",
    "W = tf.Variable(tf.zeros([num_features, num_labels]))\n",
    "b = tf.Variable(tf.zeros([num_labels]))\n",
    "model_op = tf.nn.softmax(tf.matmul(X, W) + b)\n",
    "loss_op = -tf.reduce_sum(Y*tf.log(model_op))\n",
    "train_op = tf.train.GradientDescentOptimizer(learning_rate).minimize(loss_op)\n",
    "\n",
    "# Metrics\n",
    "correct_prediction = tf.equal(tf.argmax(model_op, 1), tf.argmax(Y, 1)) \n",
    "accuracy = tf.reduce_mean(tf.cast(correct_prediction, 'float'))"
   ]
  },
  {
   "cell_type": "markdown",
   "metadata": {},
   "source": [
    "Train estimator.\n",
    "\n",
    "In this tutorial estimator is train using Stochastic Gradient Descent method."
   ]
  },
  {
   "cell_type": "code",
   "execution_count": 48,
   "metadata": {
    "collapsed": false
   },
   "outputs": [
    {
     "name": "stdout",
     "output_type": "stream",
     "text": [
      "step:0, errors: 109.861198\n",
      "step:100, errors: 6.243576\n",
      "step:200, errors: 7.319198\n",
      "step:300, errors: 6.376147\n",
      "step:400, errors: 4.063791\n",
      "step:500, errors: 5.585019\n",
      "step:600, errors: 5.662230\n",
      "step:700, errors: 3.496017\n",
      "step:800, errors: 4.836982\n",
      "step:900, errors: 5.312312\n",
      "step:1000, errors: 3.195235\n",
      "step:1100, errors: 4.366714\n",
      "step:1200, errors: 5.079407\n",
      "step:1300, errors: 2.994599\n",
      "step:1400, errors: 4.030498\n",
      "step:1500, errors: 4.903234\n",
      "step:1600, errors: 2.845166\n",
      "step:1700, errors: 3.773817\n",
      "step:1800, errors: 4.760140\n",
      "step:1900, errors: 2.726531\n",
      "step:2000, errors: 3.569653\n",
      "step:2100, errors: 4.638841\n",
      "step:2200, errors: 2.628384\n",
      "step:2300, errors: 3.402537\n",
      "step:2400, errors: 4.533287\n",
      "step:2500, errors: 2.544865\n",
      "step:2600, errors: 3.262787\n",
      "step:2700, errors: 4.439923\n",
      "step:2800, errors: 2.472363\n",
      "step:2900, errors: 3.143946\n",
      "Accuracy: 0.966667\n"
     ]
    }
   ],
   "source": [
    "with tf.Session() as sess:\n",
    "    sess.run(tf.global_variables_initializer())\n",
    "    for step in range(training_epoch * train_size // batch_size):\n",
    "        offset = (step * batch_size) % train_size\n",
    "        batch_xs = xs[offset:(offset+batch_size), :]\n",
    "        batch_labels = labels[offset:(offset+batch_size), :]      \n",
    "        err, _ = sess.run([loss_op, train_op], {X:batch_xs, Y:batch_labels})\n",
    "        if step % 100 == 0:\n",
    "            print('step:%d, errors: %f' % (step, err))\n",
    "    w_vals, b_val = sess.run([W, b])\n",
    "    print('Accuracy:', sess.run(accuracy, {X:test_xs, Y:test_labels}))"
   ]
  }
 ],
 "metadata": {
  "anaconda-cloud": {},
  "kernelspec": {
   "display_name": "Python [conda env:tensorflow]",
   "language": "python",
   "name": "conda-env-tensorflow-py"
  },
  "language_info": {
   "codemirror_mode": {
    "name": "ipython",
    "version": 3
   },
   "file_extension": ".py",
   "mimetype": "text/x-python",
   "name": "python",
   "nbconvert_exporter": "python",
   "pygments_lexer": "ipython3",
   "version": "3.5.2"
  }
 },
 "nbformat": 4,
 "nbformat_minor": 1
}
