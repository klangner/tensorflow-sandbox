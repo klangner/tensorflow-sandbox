{
 "cells": [
  {
   "cell_type": "markdown",
   "metadata": {},
   "source": [
    "# Cross Entropy Method for MountainCar environment\n",
    "\n",
    "\n",
    "https://gym.openai.com/envs/MountainCar-v0/"
   ]
  },
  {
   "cell_type": "code",
   "execution_count": 1,
   "metadata": {},
   "outputs": [
    {
     "name": "stdout",
     "output_type": "stream",
     "text": [
      "\u001b[33mWARN: gym.spaces.Box autodetected dtype as <class 'numpy.float32'>. Please provide explicit dtype.\u001b[0m\n",
      "Number of states: (2,)\n",
      "Number of actions: 3\n"
     ]
    },
    {
     "data": {
      "text/plain": [
       "<matplotlib.image.AxesImage at 0x7f263f76c9e8>"
      ]
     },
     "execution_count": 1,
     "metadata": {},
     "output_type": "execute_result"
    },
    {
     "data": {
      "image/png": "[encoded data removed]",
      "text/plain": [
       "<matplotlib.figure.Figure at 0x7f2650e77ba8>"
      ]
     },
     "metadata": {},
     "output_type": "display_data"
    }
   ],
   "source": [
    "import gym\n",
    "import numpy as np\n",
    "import matplotlib.pyplot as plt\n",
    "%matplotlib inline\n",
    "import sklearn.neural_network as nn\n",
    "from sklearn import preprocessing\n",
    "import warnings\n",
    "from sklearn.exceptions import ConvergenceWarning\n",
    "warnings.filterwarnings(\"ignore\", category=ConvergenceWarning)\n",
    "\n",
    "\n",
    "env = gym.make(\"MountainCar-v0\").env\n",
    "env.reset()\n",
    "print('Number of states: {}'.format(env.observation_space.shape))\n",
    "print('Number of actions: {}'.format(env.action_space.n))\n",
    "\n",
    "plt.imshow(env.render(\"rgb_array\"))"
   ]
  },
  {
   "cell_type": "code",
   "execution_count": 2,
   "metadata": {},
   "outputs": [
    {
     "data": {
      "text/plain": [
       "0"
      ]
     },
     "execution_count": 2,
     "metadata": {},
     "output_type": "execute_result"
    }
   ],
   "source": [
    "class Agent():\n",
    "    \n",
    "    def __init__(self, env):\n",
    "        self.n_spaces = env.observation_space.shape\n",
    "        self.n_actions = env.action_space.n\n",
    "        self.model = self.build_model()\n",
    "        self.action_encoder = preprocessing.OneHotEncoder(self.n_actions)\n",
    "        self.action_encoder.fit(np.arange(self.n_actions).reshape(-1, 1))\n",
    "        self.init_model()\n",
    "        \n",
    "    def build_model(self):\n",
    "        model = nn.MLPClassifier(hidden_layer_sizes=(20,20), activation='tanh', warm_start=True, max_iter=1)\n",
    "        return model\n",
    "    \n",
    "    def init_model(self):\n",
    "        states = np.array([env.reset()]*self.n_actions)\n",
    "        actions = np.arange(self.n_actions)\n",
    "        self.update(states, actions)\n",
    "\n",
    "    def policy(self, state):\n",
    "        probs = self.model.predict(np.array([state]))\n",
    "        return np.argmax(probs)\n",
    "        \n",
    "    def update(self, states, actions):\n",
    "        encoded_actions = self.action_encoder.transform(actions.reshape(-1, 1))\n",
    "        self.model.fit(states, encoded_actions)\n",
    "    \n",
    "\n",
    "agent = Agent(env)\n",
    "agent.policy(env.reset())"
   ]
  },
  {
   "cell_type": "code",
   "execution_count": 3,
   "metadata": {
    "collapsed": true
   },
   "outputs": [],
   "source": [
    "def generate_session(agent, t_max=1000):\n",
    "    \n",
    "    states,actions = [],[]\n",
    "    total_reward = 0\n",
    "    \n",
    "    s = env.reset()\n",
    "    \n",
    "    for t in range(t_max):\n",
    "        \n",
    "        a = agent.policy(s)\n",
    "        \n",
    "        new_s, r, done, info = env.step(a)\n",
    "        \n",
    "        #record sessions\n",
    "        states.append(s)\n",
    "        actions.append(a)\n",
    "        total_reward += r\n",
    "        \n",
    "        s = new_s\n",
    "        if done: break\n",
    "            \n",
    "    return states, actions, total_reward\n",
    "        "
   ]
  },
  {
   "cell_type": "code",
   "execution_count": 11,
   "metadata": {},
   "outputs": [
    {
     "name": "stdout",
     "output_type": "stream",
     "text": [
      "[array([-0.57784602,  0.        ]), array([-0.57844096, -0.00059494]), array([-0.57962644, -0.00118548]), array([-0.58139368, -0.00176724]), array([-0.58372963, -0.00233595]), array([-0.58661705, -0.00288741]), array([-0.59003463, -0.00341758]), array([-0.59395724, -0.00392261]), array([-0.59835607, -0.00439883]), array([-0.60319891, -0.00484284]), array([-0.6084504, -0.0052515]), array([-0.61407236, -0.00562196]), array([-0.62002407, -0.00595171]), array([-0.62626263, -0.00623856]), array([-0.63274333, -0.0064807 ]), array([-0.63941999, -0.00667666]), array([-0.64624537, -0.00682538]), array([-0.65317151, -0.00692614]), array([-0.66015015, -0.00697864]), array([-0.66713305, -0.00698291]), array([-0.67407241, -0.00693936]), array([-0.68092116, -0.00684875]), array([-0.68763331, -0.00671215]), array([-0.69416426, -0.00653095]), array([-0.70047107, -0.00630681]), array([-0.70651271, -0.00604164]), array([-0.71225031, -0.00573761]), array([-0.71764737, -0.00539705]), array([-0.72266987, -0.00502251]), array([-0.72728653, -0.00461666]), array([-0.73146884, -0.00418231]), array([-0.73519123, -0.00372239]), array([-0.73843112, -0.00323989]), array([-0.74116902, -0.0027379 ]), array([-0.74338856, -0.00221954]), array([-0.74507656, -0.001688  ]), array([-0.74622302, -0.00114647]), array([-7.46821195e-01, -5.98172027e-04]), array([-7.46867554e-01, -4.63591708e-05]), array([-7.46361828e-01,  5.05726272e-04]), array([-0.74530699,  0.00105484]), array([-0.74370926,  0.00159773]), array([-0.74157809,  0.00213118]), array([-0.73892612,  0.00265197]), array([-0.73576919,  0.00315692]), array([-0.73212628,  0.00364291]), array([-0.72801945,  0.00410683]), array([-0.72347377,  0.00454568]), array([-0.71851726,  0.00495651]), array([-0.71318076,  0.0053365 ]), array([-0.70749783,  0.00568294]), array([-0.70150455,  0.00599327]), array([-0.69523944,  0.00626511]), array([-0.68874316,  0.00649628]), array([-0.68205834,  0.00668481]), array([-0.67522934,  0.006829  ]), array([-0.66830192,  0.00692741]), array([-0.661323  ,  0.00697892]), array([-0.65434029,  0.00698271]), array([-0.64740196,  0.00693833]), array([-0.64055631,  0.00684565]), array([-0.63385137,  0.00670494]), array([-0.62733453,  0.00651684]), array([-0.62105217,  0.00628236]), array([-0.61504927,  0.0060029 ]), array([-0.60936907,  0.0056802 ]), array([-0.60405266,  0.0053164 ]), array([-0.5991387 ,  0.00491397]), array([-0.59466302,  0.00447568]), array([-0.59065838,  0.00400463]), array([-0.58715419,  0.00350419]), array([-0.58417621,  0.00297798]), array([-0.5817464 ,  0.00242981]), array([-0.57988269,  0.00186371]), array([-0.57859885,  0.00128384]), array([-0.57790439,  0.00069447]), array([-5.77804426e-01,  9.99604950e-05]), array([-5.78299712e-01, -4.95286548e-04]), array([-0.57938658, -0.00108687]), array([-0.58105699, -0.00167041]), array([-0.5832986, -0.0022416]), array([-0.58609484, -0.00279625]), array([-0.58942511, -0.00333027]), array([-0.59326488, -0.00383977]), array([-0.59758595, -0.00432107]), array([-0.60235666, -0.00477071]), array([-0.60754217, -0.00518551]), array([-0.61310474, -0.00556257]), array([-0.61900405, -0.00589931]), array([-0.62519755, -0.0061935 ]), array([-0.6316408 , -0.00644325]), array([-0.63828786, -0.00664705]), array([-0.64509161, -0.00680375]), array([-0.65200421, -0.0069126 ]), array([-0.65897741, -0.0069732 ]), array([-0.66596296, -0.00698554]), array([-0.67291293, -0.00694998]), array([-0.67978013, -0.0068672 ]), array([-0.68651836, -0.00673823]), array([-0.69308277, -0.0065644 ]), array([-0.69943011, -0.00634734]), array([-0.70551902, -0.00608892]), array([-0.71131027, -0.00579124]), array([-0.71676691, -0.00545665]), array([-0.72185454, -0.00508762]), array([-0.72654137, -0.00468683]), array([-0.73079844, -0.00425707]), array([-0.73459966, -0.00380123]), array([-0.73792197, -0.00332231]), array([-0.74074534, -0.00282337]), array([-0.74305288, -0.00230754]), array([-0.74483087, -0.00177798]), array([-0.74606877, -0.0012379 ]), array([-7.46759288e-01, -6.90518638e-04]), array([-7.46898358e-01, -1.39069834e-04]), array([-7.46485161e-01,  4.13196714e-04]), array([-0.74552213,  0.00096303]), array([-0.74401493,  0.0015072 ]), array([-0.74197248,  0.00204245]), array([-0.73940689,  0.00256559]), array([-0.73633347,  0.00307342]), array([-0.73277066,  0.00356281]), array([-0.72874001,  0.00403065]), array([-0.7242661 ,  0.00447391]), array([-0.71937645,  0.00488964]), array([-0.71410145,  0.005275  ]), array([-0.7084742 ,  0.00562725]), array([-0.70253038,  0.00594382]), array([-0.6963081 ,  0.00622228]), array([-0.68984769,  0.00646042]), array([-0.68319146,  0.00665623]), array([-0.67638349,  0.00680797]), array([-0.66946934,  0.00691415]), array([-0.66249575,  0.00697359]), array([-0.65551032,  0.00698543]), array([-0.64856117,  0.00694915]), array([-0.6416966 ,  0.00686457]), array([-0.63496471,  0.00673189]), array([-0.62841303,  0.00655168]), array([-0.62208814,  0.0063249 ]), array([-0.61603527,  0.00605287]), array([-0.61029798,  0.00573729]), array([-0.60491776,  0.00538023]), array([-0.59993367,  0.00498409]), array([-0.59538207,  0.00455161]), array([-0.59129624,  0.00408583]), array([-0.58770616,  0.00359008]), array([-0.58463824,  0.00306792]), array([-0.58211507,  0.00252317]), array([-0.58015528,  0.00195979]), array([-0.57877335,  0.00138193]), array([-0.5779795 ,  0.00079385]), array([-5.77779602e-01,  1.99900142e-04]), array([-5.78175132e-01, -3.95530627e-04]), array([-0.57916317, -0.00098803]), array([-0.5807364 , -0.00157323]), array([-0.58288319, -0.00214679]), array([-0.58558769, -0.0027045 ]), array([-0.58882994, -0.00324226]), array([-0.59258608, -0.00375614]), array([-0.59682851, -0.00424242]), array([-0.60152611, -0.00469761]), array([-0.60664457, -0.00511846]), array([-0.61214661, -0.00550204]), array([-0.61799232, -0.00584571]), array([-0.62413951, -0.00614719]), array([-0.63054402, -0.00640451]), array([-0.63716014, -0.00661611]), array([-0.64394092, -0.00678078]), array([-0.65083862, -0.0068977 ]), array([-0.65780502, -0.0069664 ]), array([-0.66479185, -0.00698683]), array([-0.67175112, -0.00695927]), array([-0.67863547, -0.00688435]), array([-0.68539851, -0.00676304]), array([-0.69199515, -0.00659664]), array([-0.69838186, -0.00638671]), array([-0.70451695, -0.00613508]), array([-0.71036079, -0.00584384]), array([-0.71587606, -0.00551527]), array([-0.7210279 , -0.00515184]), array([-0.7257841 , -0.00475619]), array([-0.73011519, -0.00433109]), array([-0.73399461, -0.00387942]), array([-0.73739877, -0.00340416]), array([-0.74030713, -0.00290837]), array([-0.74270228, -0.00239515]), array([-0.74456996, -0.00186768]), array([-0.74589909, -0.00132914]), array([-0.74668184, -0.00078275]), array([-7.46913601e-01, -2.31757465e-04]), array([-7.46593002e-01,  3.20598699e-04]), array([-0.74572193,  0.00087107]), array([-0.74430552,  0.00141641]), array([-0.74235214,  0.00195339]), array([-0.73987336,  0.00247878]), array([-0.73688395,  0.00298941]), array([-0.73340185,  0.0034821 ]), array([-0.72944807,  0.00395377]), array([-0.72504671,  0.00440137]), array([-0.72022479,  0.00482192]), array([-0.71501221,  0.00521257]), array([-0.70944165,  0.00557056]), array([-0.70354836,  0.00589329]), array([-0.69737005,  0.00617831]), array([-0.6909467 ,  0.00642336]), array([-0.6843203,  0.0066264]), array([-0.67753465,  0.00678565]), array([-0.67063509,  0.00689956]), array([-0.66366816,  0.00696692]), array([-0.65668137,  0.0069868 ]), array([-0.64972276,  0.00695861]), array([-0.64284063,  0.00688213]), array([-0.63608313,  0.00675749]), array([-0.62949793,  0.0065852 ]), array([-0.62313178,  0.00636615]), array([-0.61703017,  0.00610161]), array([-0.61123696,  0.0057932 ]), array([-0.60579402,  0.00544294]), array([-0.60074084,  0.00505318]), array([-0.59611424,  0.0046266 ]), array([-0.59194806,  0.00416618]), array([-0.58827285,  0.00367522]), array([-0.58511561,  0.00315723]), array([-0.58249962,  0.002616  ]), array([-0.58044416,  0.00205546]), array([-0.57896442,  0.00147973]), array([-0.57807135,  0.00089307]), array([-5.77771556e-01,  2.99798097e-04]), array([-5.78067248e-01, -2.95692217e-04]), array([-0.57895624, -0.00088899]), array([-0.58043196, -0.00147572]), array([-0.58248349, -0.00205153]), array([-0.58509568, -0.00261219]), array([-0.58824926, -0.00315358]), array([-0.59192099, -0.00367173]), array([-0.59608389, -0.00416289]), array([-0.60070742, -0.00462353]), array([-0.60575778, -0.00505036]), array([-0.61119816, -0.00544039]), array([-0.61698909, -0.00579093]), array([-0.62308872, -0.00609963]), array([-0.62945321, -0.00636448]), array([-0.63603706, -0.00658385]), array([-0.64279352, -0.00675647]), array([-0.64967496, -0.00688144]), array([-0.65663321, -0.00695825]), array([-0.66361997, -0.00698677]), array([-0.6705872 , -0.00696722]), array([-0.67748739, -0.00690019]), array([-0.68427397, -0.00678659]), array([-0.69090163, -0.00662765]), array([-0.69732653, -0.0064249 ]), array([-0.70350667, -0.00618014]), array([-0.70940206, -0.00589539]), array([-0.71497497, -0.00557291]), array([-0.72019013, -0.00521516]), array([-0.72501485, -0.00482472]), array([-0.72941921, -0.00440436]), array([-0.73337616, -0.00395695]), array([-0.73686159, -0.00348543]), array([-0.73985446, -0.00299287]), array([-0.74233682, -0.00248236]), array([-0.74429387, -0.00195705]), array([-0.74571402, -0.00142015]), array([-0.74658887, -0.00087485]), array([-7.46913281e-01, -3.24406708e-04]), array([-7.46685334e-01,  2.27947575e-04]), array([-0.74590637,  0.00077896]), array([-0.74458098,  0.00132539]), array([-0.74271699,  0.00186399]), array([-0.74032543,  0.00239156]), array([-0.73742055,  0.00290488]), array([-0.73401975,  0.00340081]), array([-0.73014353,  0.00387622]), array([-0.72581547,  0.00432806]), array([-0.72106211,  0.00475336]), array([-0.71591289,  0.00514922]), array([-0.71040001,  0.00551288]), array([-0.70455831,  0.0058417 ]), array([-0.6984251 ,  0.00613321]), array([-0.69203999,  0.00638511]), array([-0.68544465,  0.00659534]), array([-0.6786826 ,  0.00676205]), array([-0.67179893,  0.00688367]), array([-0.66484002,  0.00695891]), array([-0.65785321,  0.00698681]), array([-0.6508865 ,  0.00696671]), array([-0.64398816,  0.00689834]), array([-0.63720641,  0.00678175]), array([-0.630589  ,  0.00661741]), array([-0.62418287,  0.00640613]), array([-0.61803375,  0.00614912]), array([-0.61218581,  0.00584794]), array([-0.60668126,  0.00550455]), array([-0.60156002,  0.00512124]), array([-0.59685939,  0.00470063]), array([-0.59261372,  0.00424567]), array([-0.58885413,  0.00375959]), array([-0.58560824,  0.00324589]), array([-0.58289996,  0.00270828]), array([-0.58074926,  0.0021507 ]), array([-0.57917203,  0.00157723]), array([-0.57817992,  0.0009921 ]), array([-5.77780291e-01,  3.99633526e-04]), array([-5.77976084e-01, -1.95792137e-04]), array([-0.57876585, -0.00078977]), array([-0.58014375, -0.0013779 ]), array([-0.5820996 , -0.00195585]), array([-0.58461894, -0.00251934]), array([-0.58768318, -0.00306424]), array([-0.59126974, -0.00358656]), array([-0.59535225, -0.00408251]), array([-0.59990075, -0.0045485 ]), array([-0.60488197, -0.00498122]), array([-0.6102596 , -0.00537762]), array([-0.61599456, -0.00573496]), array([-0.6220454 , -0.00605084]), array([-0.62836857, -0.00632317]), array([-0.63491884, -0.00655027]), array([-0.64164965, -0.00673081]), array([-0.64851346, -0.00686382]), array([-0.65546219, -0.00694873]), array([-0.66244754, -0.00698535]), array([-0.66942138, -0.00697384]), array([-0.6763361 , -0.00691472]), array([-0.68314496, -0.00680886]), array([-0.68980238, -0.00665743]), array([-0.6962643 , -0.00646191]), array([-0.70248836, -0.00622406]), array([-0.70843423, -0.00594587]), array([-0.7140638 , -0.00562956]), array([-0.71934134, -0.00527755]), array([-0.72423375, -0.00489241]), array([-0.72871063, -0.00447688]), array([-0.73274442, -0.00403379]), array([-0.73631054, -0.00356611]), array([-0.73938741, -0.00307687]), array([-0.74195656, -0.00256915]), array([-0.74400266, -0.00204611]), array([-0.74551359, -0.00151092]), array([-0.7464804 , -0.00096681]), array([-7.46897398e-01, -4.17002211e-04]), array([-7.46762139e-01,  1.35258695e-04]), array([-7.46075415e-01,  6.86724268e-04]), array([-0.74484127,  0.00123415]), array([-0.74306698,  0.00177429]), array([-0.74076305,  0.00230393]), array([-0.73794318,  0.00281987]), array([-0.73462425,  0.00331893]), array([-0.73082625,  0.003798  ]), array([-0.72657224,  0.00425401]), array([-0.72188828,  0.00468396]), array([-0.71680332,  0.00508496]), array([-0.7113491 ,  0.00545422]), array([-0.70556004,  0.00578906]), array([-0.69947305,  0.00608699]), array([-0.69312735,  0.0063457 ]), array([-0.6865643 ,  0.00656305]), array([-0.67982712,  0.00673718]), array([-0.67296065,  0.00686647]), array([-0.66601108,  0.00694957]), array([-0.65902562,  0.00698546]), array([-0.65205217,  0.00697345]), array([-0.64513899,  0.00691318]), array([-0.63833431,  0.00680467]), array([-0.63168602,  0.0066483 ]), array([-0.6252412 ,  0.00644482]), array([-0.61904582,  0.00619538]), array([-0.61314434,  0.00590149]), array([-0.6075793 ,  0.00556503]), array([-0.60239106,  0.00518824]), array([-0.59761736,  0.0047737 ]), array([-0.59329308,  0.00432429]), array([-0.58944988,  0.00384319]), array([-0.58611601,  0.00333387]), array([-0.58331601,  0.00280001]), array([-0.58107052,  0.00224549]), array([-0.57939612,  0.0016744 ]), array([-0.57830519,  0.00109093]), array([-5.77805805e-01,  4.99385610e-04]), array([-5.77901657e-01, -9.58512225e-05]), array([-0.57859204, -0.00069038]), array([-0.57987183, -0.0012798 ]), array([-0.58173158, -0.00185975]), array([-0.58415755, -0.00242596]), array([-0.58713181, -0.00297427]), array([-0.59063246, -0.00350065]), array([-0.59463374, -0.00400128]), array([-0.59910628, -0.00447254]), array([-0.60401734, -0.00491106]), array([-0.6093311 , -0.00531376]), array([-0.61500893, -0.00567783]), array([-0.62100974, -0.00600081]), array([-0.62729033, -0.00628059]), array([-0.63380571, -0.00651538]), array([-0.64050952, -0.00670381]), array([-0.64735436, -0.00684484]), array([-0.65429221, -0.00693785]), array([-0.66127479, -0.00698257]), array([-0.6682539 , -0.00697911]), array([-0.67518183, -0.00692793]), array([-0.68201167, -0.00682984]), array([-0.68869763, -0.00668596]), array([-0.69519536, -0.00649773]), array([-0.70146221, -0.00626685]), array([-0.7074575 , -0.00599528]), array([-0.7131427 , -0.00568521]), array([-0.71848171, -0.00533901]), array([-0.72344095, -0.00495924]), array([-0.72798956, -0.00454861]), array([-0.73209951, -0.00410995]), array([-0.7357457 , -0.00364619]), array([-0.73890605, -0.00316035]), array([-0.74156156, -0.00265551]), array([-0.74369637, -0.00213482]), array([-0.74529782, -0.00160145]), array([-0.74635643, -0.00105861]), array([-7.46865955e-01, -5.09528626e-04]), array([-7.46823407e-01,  4.25474131e-05]), array([-7.46229034e-01,  5.94373279e-04]), array([-0.74508633,  0.0011427 ]), array([-0.74340204,  0.00168429]), array([-0.74118612,  0.00221592]), array([-0.73845175,  0.00273438]), array([-0.73521526,  0.00323649]), array([-0.73149612,  0.00371913]), array([-0.7273169 ,  0.00417922]), array([-0.72270315,  0.00461375]), array([-0.71768334,  0.00501981]), array([-0.71228876,  0.00539458]), array([-0.70655338,  0.00573538]), array([-0.7005137 ,  0.00603967]), array([-0.69420859,  0.00630511]), array([-0.68767904,  0.00652955]), array([-0.68096799,  0.00671105]), array([-0.67412003,  0.00684796]), array([-0.66718113,  0.00693889]), array([-0.66019837,  0.00698277]), array([-0.65321953,  0.00697883]), array([-0.64629286,  0.00692667]), array([-0.63946663,  0.00682624]), array([-0.63278877,  0.00667785]), array([-0.62630656,  0.00648221]), array([-0.62006618,  0.00624039]), array([-0.61411234,  0.00595384]), array([-0.60848796,  0.00562438]), array([-0.60323378,  0.00525418]), array([-0.598388  ,  0.00484578]), array([-0.59398599,  0.00440201]), array([-0.59005999,  0.003926  ]), array([-0.58663883,  0.00342116]), array([-0.58374769,  0.00289115]), array([-0.58140787,  0.00233982]), array([-0.57963665,  0.00177122]), array([-0.57844713,  0.00118952]), array([-0.57784809,  0.00059903]), array([-5.77843983e-01,  4.10968348e-06]), array([-0.57843483, -0.00059084]), array([-0.57961625, -0.00118143]), array([-0.58137952, -0.00176327]), array([-0.58371161, -0.00233208]), array([-0.58659528, -0.00288368]), array([-0.59000929, -0.00341401]), array([-0.59392851, -0.00391922]), array([-0.59832416, -0.00439565]), array([-0.60316405, -0.00483989]), array([-0.60841286, -0.0052488 ]), array([-0.61403239, -0.00561954]), array([-0.61998197, -0.00594958]), array([-0.62621871, -0.00623673]), array([-0.63269789, -0.00647918]), array([-0.63937336, -0.00667547]), array([-0.64619788, -0.00682452]), array([-0.65312349, -0.00692561]), array([-0.66010193, -0.00697844]), array([-0.66708497, -0.00698304]), array([-0.67402479, -0.00693982]), array([-0.68087433, -0.00684953]), array([-0.68758757, -0.00671325]), array([-0.69411992, -0.00653235]), array([-0.70042842, -0.00630849]), array([-0.70647202, -0.00604361]), array([-0.71221185, -0.00573983]), array([-0.71761138, -0.00539952]), array([-0.72263658, -0.0050252 ]), array([-0.72725614, -0.00461956]), array([-0.73144153, -0.0041854 ]), array([-0.73516717, -0.00372564]), array([-0.73841046, -0.00324329]), array([-0.74115189, -0.00274142]), array([-0.74337505, -0.00222317]), array([-0.74506676, -0.0016917 ]), array([-0.74621699, -0.00115023]), array([-7.46818956e-01, -6.01970608e-04]), array([-7.46869127e-01, -5.01709155e-05]), array([-7.46367203e-01,  5.01923776e-04]), array([-0.74531614,  0.00105107]), array([-0.74372213,  0.00159401]), array([-0.74159459,  0.00212754]), array([-0.73894616,  0.00264843]), array([-0.73579266,  0.0031535 ]), array([-0.73215303,  0.00363963]), array([-0.72804932,  0.00410371]), array([-0.72350658,  0.00454274]), array([-0.7185528 ,  0.00495378]), array([-0.71321881,  0.00533399]), array([-0.70753814,  0.00568067]), array([-0.70154688,  0.00599126]), array([-0.6952835 ,  0.00626338]), array([-0.68878867,  0.00649483]), array([-0.68210501,  0.00668366]), array([-0.67527685,  0.00682816]), array([-0.66834995,  0.0069269 ]), array([-0.66137122,  0.00697873]), array([-0.65438837,  0.00698285]), array([-0.64744957,  0.0069388 ]), array([-0.64060312,  0.00684645]), array([-0.63389704,  0.00670608]), array([-0.62737874,  0.0065183 ]), array([-0.6210946 ,  0.00628414]), array([-0.61508963,  0.00600497]), array([-0.60940706,  0.00568257]), array([-0.60408801,  0.00531905]), array([-0.59917114,  0.00491687]), array([-0.59469232,  0.00447882]), array([-0.59068433,  0.00400799]), array([-0.58717659,  0.00350774]), array([-0.5841949 ,  0.00298169]), array([-0.58176124,  0.00243366]), array([-0.57989358,  0.00186767]), array([-0.5786057 ,  0.00128787]), array([-0.57790714,  0.00069856]), array([-5.77803074e-01,  1.04069732e-04]), array([-5.78294262e-01, -4.91187311e-04]), array([-0.57937707, -0.00108281]), array([-0.58104349, -0.00166642]), array([-0.58328121, -0.00223772]), array([-0.58607369, -0.00279249]), array([-0.58940036, -0.00332666]), array([-0.59323671, -0.00383635]), array([-0.59755456, -0.00431786]), array([-0.60232229, -0.00476773]), array([-0.60750506, -0.00518277]), array([-0.61306516, -0.0055601 ]), array([-0.61896229, -0.00589713]), array([-0.62515391, -0.00619162]), array([-0.6315956 , -0.00644169]), array([-0.63824141, -0.00664581]), array([-0.64504424, -0.00680284]), array([-0.65195626, -0.00691201]), array([-0.6589292 , -0.00697295]), array([-0.66591483, -0.00698562]), array([-0.67286521, -0.00695039]), array([-0.67973314, -0.00686793]), array([-0.68647242, -0.00673927]), array([-0.69303817, -0.00656575]), array([-0.69938715, -0.00634898]), array([-0.70547799, -0.00609084]), array([-0.71127142, -0.00579343]), array([-0.71673049, -0.00545908]), array([-0.72182077, -0.00509028]), array([-0.72651047, -0.0046897 ]), array([-0.7307706 , -0.00426013]), array([-0.73457505, -0.00380446]), array([-0.73790074, -0.00332568]), array([-0.74072761, -0.00282687]), array([-0.74303876, -0.00231115]), array([-0.74482044, -0.00178168]), array([-0.7460621 , -0.00124166]), array([-7.46756410e-01, -6.94312814e-04]), array([-7.46899291e-01, -1.42880935e-04]), array([-7.46489900e-01,  4.09391101e-04]), array([-0.74553065,  0.00095926]), array([-0.74402718,  0.00150347]), array([-0.74198838,  0.0020388 ]), array([-0.73942635,  0.00256203]), array([-0.73635637,  0.00306998]), array([-0.73279687,  0.0035595 ]), array([-0.72876936,  0.0040275 ]), array([-0.72429842,  0.00447094]), array([-0.71941155,  0.00488688]), array([-0.71413909,  0.00527245]), array([-0.70851415,  0.00562494]), array([-0.70257239,  0.00594176]), array([-0.69635189,  0.00622049]), array([-0.68989298,  0.00645892]), array([-0.68323795,  0.00665503]), array([-0.67643088,  0.00680707]), array([-0.6695173 ,  0.00691357]), array([-0.66254396,  0.00697334]), array([-0.65555844,  0.00698552]), array([-0.64860888,  0.00694956]), array([-0.64174356,  0.00686532]), array([-0.6350106 ,  0.00673297]), array([-0.62845751,  0.00655308]), array([-0.62213089,  0.00632662]), array([-0.616076  ,  0.00605489]), array([-0.61033639,  0.00573961]), array([-0.60495357,  0.00538283]), array([-0.59996662,  0.00498695]), array([-0.59541191,  0.00455471]), array([-0.59132276,  0.00408915]), array([-0.58772917,  0.00359359]), array([-0.58465756,  0.00307161]), array([-0.58213057,  0.00252699]), array([-0.58016684,  0.00196373]), array([-0.57878088,  0.00138596]), array([-0.57798295,  0.00079793]), array([-5.77778940e-01,  2.04008076e-04]), array([-5.78170368e-01, -3.91427589e-04]), array([-0.57915433, -0.00098397]), array([-0.58072356, -0.00156923]), array([-0.58286644, -0.00214288]), array([-0.58556716, -0.00270072]), array([-0.58880578, -0.00323862]), array([-0.59255847, -0.00375269]), array([-0.59679764, -0.00423917]), array([-0.60149222, -0.00469458]), array([-0.6066079 , -0.00511568]), array([-0.61210743, -0.00549953]), array([-0.61795091, -0.00584349]), array([-0.62409617, -0.00614526]), array([-0.63049906, -0.00640289]), array([-0.63711387, -0.00661481]), array([-0.64389368, -0.00677981]), array([-0.65079074, -0.00689705]), array([-0.65775683, -0.0069661 ]), array([-0.66474369, -0.00698686]), array([-0.67170331, -0.00695962]), array([-0.67858834, -0.00688502]), array([-0.68535237, -0.00676404]), array([-0.69195031, -0.00659794]), array([-0.69833862, -0.0063883 ]), array([-0.70447557, -0.00613696]), array([-0.71032156, -0.00584598]), array([-0.71583922, -0.00551766]), array([-0.72099368, -0.00515446]), array([-0.72575271, -0.00475903]), array([-0.73008682, -0.00433412]), array([-0.73396944, -0.00388262]), array([-0.73737696, -0.00340751]), array([-0.74028881, -0.00291185]), array([-0.74268755, -0.00239874]), array([-0.74455891, -0.00187136]), array([-0.74589179, -0.00133288]), array([-0.74667833, -0.00078654]), array([-7.46913895e-01, -2.35567290e-04]), array([-7.46597104e-01,  3.16790600e-04]), array([-0.74572982,  0.00086729]), array([-0.74431715,  0.00141267]), array([-0.74236743,  0.00194972]), array([-0.73989223,  0.0024752 ]), array([-0.73690629,  0.00298594]), array([-0.73342751,  0.00347877]), array([-0.72947692,  0.0039506 ]), array([-0.72507855,  0.00439837]), array([-0.72025943,  0.00481912]), array([-0.71504944,  0.00520998]), array([-0.70948123,  0.00556821]), array([-0.70359004,  0.00589119]), array([-0.69741357,  0.00617647]), array([-0.69099176,  0.00642181]), array([-0.68436661,  0.00662515]), array([-0.67758191,  0.0067847 ]), array([-0.67068297,  0.00689894]), array([-0.66371635,  0.00696662]), array([-0.65672953,  0.00698682]), array([-0.64977056,  0.00695897]), array([-0.64288774,  0.00688282]), array([-0.63612922,  0.00675852]), array([-0.62954267,  0.00658655]), array([-0.62317484,  0.00636782]), array([-0.61707126,  0.00610359]), array([-0.61127578,  0.00579548]), array([-0.60583028,  0.0054455 ]), array([-0.60077428,  0.005056  ]), array([-0.59614462,  0.00462966]), array([-0.59197516,  0.00416947]), array([-0.58829646,  0.0036787 ]), array([-0.58513556,  0.00316089]), array([-0.58251576,  0.0026198 ]), array([-0.58045638,  0.00205938]), array([-0.57897263,  0.00148375]), array([-0.57807549,  0.00089714]), array([-5.77771585e-01,  3.03903871e-04]), array([-5.78063171e-01, -2.91586233e-04]), array([-0.57894809, -0.00088492]), array([-0.58041979, -0.0014717 ]), array([-0.5824674 , -0.00204761]), array([-0.58507578, -0.00260838]), array([-0.5882257 , -0.00314992]), array([-0.59189394, -0.00366824]), array([-0.59605355, -0.00415961]), array([-0.60067402, -0.00462047]), array([-0.60572155, -0.00504754]), array([-0.61115938, -0.00543783]), array([-0.61694803, -0.00578865]), array([-0.62304568, -0.00609765]), array([-0.62940849, -0.00636281]), array([-0.63599099, -0.0065825 ]), array([-0.64274643, -0.00675544]), array([-0.64962716, -0.00688074]), array([-0.65658505, -0.00695788]), array([-0.66357178, -0.00698674]), array([-0.6705393 , -0.00696752]), array([-0.67744012, -0.00690081]), array([-0.68422765, -0.00678753]), array([-0.69085655, -0.0066289 ]), array([-0.69728299, -0.00642645]), array([-0.70346496, -0.00618196]), array([-0.70936244, -0.00589749]), array([-0.71493771, -0.00557526]), array([-0.72015545, -0.00521774]), array([-0.72498297, -0.00482752]), array([-0.72939033, -0.00440736]), array([-0.73335045, -0.00396012]), array([-0.73683921, -0.00348876]), array([-0.73983554, -0.00299633]), array([-0.74232148, -0.00248593]), array([-0.7442822 , -0.00196072]), array([-0.74570608, -0.00142388]), array([-0.74658472, -0.00087864]), array([-7.46912935e-01, -3.28214626e-04]), array([-7.46688797e-01,  2.24137621e-04]), array([-0.74591363,  0.00077517]), array([-0.74459198,  0.00132164]), array([-0.74273167,  0.00186031]), array([-0.74034371,  0.00238796]), array([-0.73744231,  0.00290139]), array([-0.73404486,  0.00339745]), array([-0.73017185,  0.00387301]), array([-0.72584682,  0.00432503]), array([-0.7210963 ,  0.00475052]), array([-0.7159497,  0.0051466]), array([-0.71043921,  0.00551049]), array([-0.70459965,  0.00583956]), array([-0.69846832,  0.00613133]), array([-0.69208481,  0.00638352]), array([-0.68549077,  0.00659404]), array([-0.67872972,  0.00676105]), array([-0.67184673,  0.00688299]), array([-0.66488818,  0.00695855]), array([-0.6579014 ,  0.00698678]), array([-0.65093439,  0.00696701]), array([-0.64403541,  0.00689897]), array([-0.63725269,  0.00678272]), array([-0.63063398,  0.00661871]), array([-0.62422624,  0.00640775]), array([-0.61807519,  0.00615104]), array([-0.61222503,  0.00585017]), array([-0.60671797,  0.00550706]), array([-0.60159396,  0.00512401]), array([-0.5968903 ,  0.00470365]), array([-0.59264138,  0.00424892]), array([-0.58887834,  0.00376305]), array([-0.58562882,  0.00324952]), array([-0.58291675,  0.00271206]), array([-0.58076215,  0.0021546 ]), array([-0.57918091,  0.00158123]), array([-0.57818475,  0.00099617]), array([-5.77781010e-01,  4.03736284e-04]), array([-5.77972694e-01, -1.91684064e-04]), array([-0.57875838, -0.00078569]), array([-0.58013225, -0.00137387]), array([-0.58208416, -0.0019519 ]), array([-0.58459967, -0.00251551]), array([-0.58766022, -0.00306055]), array([-0.59124326, -0.00358304]), array([-0.59532245, -0.00407919]), array([-0.59986785, -0.0045454 ]), array([-0.60484621, -0.00497836]), array([-0.61022122, -0.00537502]), array([-0.61595386, -0.00573264]), array([-0.62200267, -0.0060488 ]), array([-0.62832411, -0.00632145]), array([-0.63487298, -0.00654886]), array([-0.6416027 , -0.00672972]), array([-0.64846576, -0.00686306]), array([-0.65541407, -0.00694831]), array([-0.66239933, -0.00698526]), array([-0.66937341, -0.00697408]), array([-0.6762887 , -0.00691529]), array([-0.68309845, -0.00680974]), array([-0.68975707, -0.00665863]), array([-0.69622048, -0.00646341]), array([-0.70244633, -0.00622584]), array([-0.70839425, -0.00594793]), array([-0.71402612, -0.00563187]), array([-0.71930622, -0.00528009]), array([-0.72420139, -0.00489517]), array([-0.72868123, -0.00447984]), array([-0.73271817, -0.00403694]), array([-0.73628759, -0.00356942]), array([-0.7393679 , -0.00308031]), array([-0.74194061, -0.00257271]), array([-0.74399037, -0.00204976]), array([-0.74550502, -0.00151465]), array([-0.7464756 , -0.00097059]), array([-7.46896412e-01, -4.20807592e-04]), array([-7.46764965e-01,  1.31447518e-04]), array([-7.46082035e-01,  6.82929705e-04]), array([-0.74485164,  0.00123039]), array([-0.74308105,  0.0017706 ]), array([-0.74078073,  0.00230032]), array([-0.73796437,  0.00281636]), array([-0.73464881,  0.00331555]), array([-0.73085404,  0.00379477]), array([-0.7266031 ,  0.00425095]), array([-0.721922  ,  0.00468109]), array([-0.7168397,  0.0050823]), array([-0.71138792,  0.00545178]), array([-0.70560104,  0.00578687]), array([-0.69951597,  0.00608507]), array([-0.69317192,  0.00634405]), array([-0.68661023,  0.0065617 ]), array([-0.67987409,  0.00673613]), array([-0.67300836,  0.00686573]), array([-0.66605921,  0.00694916]), array([-0.65907383,  0.00698538]), array([-0.65210013,  0.0069737 ]), array([-0.64518636,  0.00691376]), array([-0.63838078,  0.00680558]), array([-0.63173124,  0.00664954]), array([-0.62528486,  0.00644638]), array([-0.61908761,  0.00619725]), array([-0.61318395,  0.00590366]), array([-0.60761645,  0.00556749]), array([-0.60242548,  0.00519098]), array([-0.5976488 ,  0.00477668]), array([-0.5933213,  0.0043275]), array([-0.58947469,  0.00384661]), array([-0.58613721,  0.00333747]), array([-0.58333345,  0.00280376]), array([-0.58108407,  0.00224938]), array([-0.57940568,  0.00167839]), array([-0.5783107 ,  0.00109499]), array([-5.77807213e-01,  5.03484496e-04]), array([-5.77898955e-01, -9.17419162e-05]), array([-0.57858524, -0.00068629]), array([-0.579861  , -0.00127576]), array([-0.5817168 , -0.00185579]), array([-0.58413891, -0.00242211]), array([-0.58710946, -0.00297055]), array([-0.59060656, -0.0034971 ]), array([-0.59460448, -0.00399792]), array([-0.59907388, -0.0044694 ]), array([-0.60398203, -0.00490816]), array([-0.60929314, -0.00531111]), array([-0.6149686 , -0.00567546]), array([-0.62096733, -0.00599873]), array([-0.62724614, -0.00627881]), array([-0.63376006, -0.00651392]), array([-0.64046273, -0.00670267]), array([-0.64730676, -0.00684403]), array([-0.65424414, -0.00693738]), array([-0.66122657, -0.00698243]), array([-0.66820587, -0.0069793 ]), array([-0.67513432, -0.00692845]), array([-0.68196499, -0.00683067]), array([-0.6886521 , -0.00668711]), array([-0.69515128, -0.00649918]), array([-0.70141986, -0.00626859]), array([-0.70741715, -0.00599729]), array([-0.71310463, -0.00568747]), array([-0.71844614, -0.00534151]), array([-0.72340811, -0.00496197]), array([-0.72795965, -0.00455154]), array([-0.73207272, -0.00411307]), array([-0.73572219, -0.00364947]), array([-0.73888595, -0.00316377]), array([-0.741545  , -0.00265905]), array([-0.74368346, -0.00213846]), array([-0.74528862, -0.00160516]), array([-0.746351  , -0.00106238]), array([-7.46864329e-01, -5.13330838e-04]), array([-7.46825594e-01,  3.87356435e-05]), array([-7.46235019e-01,  5.90574364e-04]), array([-0.74509608,  0.00113894]), array([-0.7434155 ,  0.00168059]), array([-0.7412032 ,  0.00221229]), array([-0.73847235,  0.00273085]), array([-0.73523926,  0.00323309]), array([-0.73152339,  0.00371588]), array([-0.72734726,  0.00417613]), array([-0.72273641,  0.00461085]), array([-0.71771929,  0.00501711]), array([-0.71232718,  0.00539211]), array([-0.70659403,  0.00573315]), array([-0.70055633,  0.00603771]), array([-0.69425291,  0.00630342]), array([-0.68772476,  0.00652814]), array([-0.68101481,  0.00670995]), array([-0.67416764,  0.00684717]), array([-0.66722921,  0.00693843]), array([-0.66024658,  0.00698263]), array([-0.65326756,  0.00697902]), array([-0.64634036,  0.0069272 ]), array([-0.63951327,  0.0068271 ]), array([-0.63283423,  0.00667904]), array([-0.62635051,  0.00648372]), array([-0.6201083 ,  0.00624221]), array([-0.61415234,  0.00595596]), array([-0.60852555,  0.00562679]), array([-0.60326867,  0.00525687]), array([-0.59841995,  0.00484872]), array([-0.59401477,  0.00440518]), array([-0.59008538,  0.00392938]), array([-0.58666065,  0.00342473]), array([-0.58376577,  0.00289488]), array([-0.58142208,  0.00234369]), array([-0.57964689,  0.00177519]), array([-0.57845332,  0.00119357]), array([-0.57785019,  0.00060313]), array([-5.77841970e-01,  8.21936552e-06]), array([-0.57842872, -0.00058675]), array([-0.5796061 , -0.00117738]), array([-0.58136539, -0.0017593 ]), array([-0.5836936 , -0.00232821]), array([-0.58657354, -0.00287994]), array([-0.58998397, -0.00341043]), array([-0.5938998 , -0.00391583]), array([-0.59829227, -0.00439247]), array([-0.60312922, -0.00483695]), array([-0.60837533, -0.00524611]), array([-0.61399245, -0.00561712]), array([-0.61993989, -0.00594744]), array([-0.62617479, -0.0062349 ]), array([-0.63265246, -0.00647767]), array([-0.63932674, -0.00667428]), array([-0.64615039, -0.00682365]), array([-0.65307547, -0.00692508]), array([-0.66005371, -0.00697824]), array([-0.66703689, -0.00698317]), array([-0.67397717, -0.00694028]), array([-0.68082749, -0.00685031]), array([-0.68754183, -0.00671434]), array([-0.69407557, -0.00653374]), array([-0.70038575, -0.00631018]), array([-0.70643132, -0.00604557]), array([-0.71217338, -0.00574206]), array([-0.71757537, -0.00540199]), array([-0.72260326, -0.0050279 ]), array([-0.72722572, -0.00462246]), array([-0.7314142 , -0.00418848]), array([-0.7351431 , -0.00372889]), array([-0.73838979, -0.00324669]), array([-0.74113473, -0.00274494]), array([-0.74336152, -0.00222679]), array([-0.74505693, -0.00169541]), array([-0.74621092, -0.00115399]), array([-7.46816691e-01, -6.05769020e-04]), array([-7.46870674e-01, -5.39826462e-05]), array([-7.46372553e-01,  4.98121140e-04]), array([-0.74532526,  0.00104729]), array([-0.74373496,  0.0015903 ]), array([-0.74161107,  0.00212389]), array([-0.73896619,  0.00264488]), array([-0.73581611,  0.00315008]), array([-0.73217976,  0.00363635]), array([-0.72807917,  0.0041006 ]), array([-0.72353936,  0.00453981]), array([-0.71858831,  0.00495104]), array([-0.71325684,  0.00533148]), array([-0.70757844,  0.0056784 ]), array([-0.70158919,  0.00598925]), array([-0.69532756,  0.00626164]), array([-0.68883418,  0.00649338]), array([-0.68215167,  0.00668251]), array([-0.67532435,  0.00682732]), array([-0.66839797,  0.00692637]), array([-0.66141944,  0.00697853]), array([-0.65443645,  0.00698299]), array([-0.64749718,  0.00693927]), array([-0.64064993,  0.00684726]), array([-0.63394272,  0.00670721]), array([-0.62742296,  0.00651976]), array([-0.62113705,  0.00628591]), array([-0.61513   ,  0.00600705]), array([-0.60944506,  0.00568494]), array([-0.60412337,  0.00532169]), array([-0.5992036 ,  0.00491977]), array([-0.59472164,  0.00448196]), array([-0.5907103 ,  0.00401134]), array([-0.58719902,  0.00351128]), array([-0.58421362,  0.0029854 ]), array([-0.58177611,  0.00243751]), array([-0.57990449,  0.00187162]), array([-0.57861258,  0.00129191]), array([-0.57790993,  0.00070265]), array([-5.77801752e-01,  1.08178933e-04]), array([-5.78288840e-01, -4.87087901e-04]), array([-0.57936759, -0.00107875]), array([-0.58103002, -0.00166243]), array([-0.58326385, -0.00223383]), array([-0.58605257, -0.00278872]), array([-0.58937563, -0.00332306]), array([-0.59320855, -0.00383293]), array([-0.59752319, -0.00431464]), array([-0.60228793, -0.00476474])]\n"
     ]
    },
    {
     "ename": "AttributeError",
     "evalue": "'list' object has no attribute 'shape'",
     "output_type": "error",
     "traceback": [
      "\u001b[0;31m---------------------------------------------------------------------------\u001b[0m",
      "\u001b[0;31mAttributeError\u001b[0m                            Traceback (most recent call last)",
      "\u001b[0;32m<ipython-input-11-077b14865879>\u001b[0m in \u001b[0;36m<module>\u001b[0;34m()\u001b[0m\n\u001b[1;32m      4\u001b[0m \u001b[0;32massert\u001b[0m \u001b[0mtype\u001b[0m\u001b[0;34m(\u001b[0m\u001b[0mr\u001b[0m\u001b[0;34m)\u001b[0m \u001b[0;32min\u001b[0m \u001b[0;34m[\u001b[0m\u001b[0mfloat\u001b[0m\u001b[0;34m,\u001b[0m\u001b[0mnp\u001b[0m\u001b[0;34m.\u001b[0m\u001b[0mfloat\u001b[0m\u001b[0;34m]\u001b[0m\u001b[0;34m\u001b[0m\u001b[0m\n\u001b[1;32m      5\u001b[0m \u001b[0mprint\u001b[0m\u001b[0;34m(\u001b[0m\u001b[0ms\u001b[0m\u001b[0;34m)\u001b[0m\u001b[0;34m\u001b[0m\u001b[0m\n\u001b[0;32m----> 6\u001b[0;31m \u001b[0mprint\u001b[0m\u001b[0;34m(\u001b[0m\u001b[0ma\u001b[0m\u001b[0;34m.\u001b[0m\u001b[0mshape\u001b[0m\u001b[0;34m)\u001b[0m\u001b[0;34m\u001b[0m\u001b[0m\n\u001b[0m\u001b[1;32m      7\u001b[0m \u001b[0mprint\u001b[0m\u001b[0;34m(\u001b[0m\u001b[0;34m\"Ok!\"\u001b[0m\u001b[0;34m)\u001b[0m\u001b[0;34m\u001b[0m\u001b[0m\n",
      "\u001b[0;31mAttributeError\u001b[0m: 'list' object has no attribute 'shape'"
     ]
    }
   ],
   "source": [
    "s, a, r = generate_session(agent)\n",
    "assert type(s) == type(a) == list\n",
    "assert len(s) == len(a)\n",
    "assert type(r) in [float,np.float]\n",
    "print(s)\n",
    "print(a.shape)\n",
    "print(\"Ok!\")"
   ]
  },
  {
   "cell_type": "markdown",
   "metadata": {},
   "source": [
    "### CEM steps\n",
    "Deep CEM uses exactly the same strategy as the regular CEM, so you can copy your function code from previous notebook.\n",
    "\n",
    "The only difference is that now each observation is not a number but a float32 vector."
   ]
  },
  {
   "cell_type": "code",
   "execution_count": 5,
   "metadata": {
    "collapsed": true
   },
   "outputs": [],
   "source": [
    "def select_elites(states_batch, actions_batch, rewards_batch, percentile=50):\n",
    "    \"\"\"\n",
    "    Select states and actions from games that have rewards >= percentile\n",
    "    :param states_batch: list of lists of states, states_batch[session_i][t]\n",
    "    :param actions_batch: list of lists of actions, actions_batch[session_i][t]\n",
    "    :param rewards_batch: list of rewards, rewards_batch[session_i][t]\n",
    "    \n",
    "    :returns: elite_states,elite_actions, both 1D lists of states and respective actions from elite sessions\n",
    "    \n",
    "    Please return elite states and actions in their original order \n",
    "    [i.e. sorted by session number and timestep within session]\n",
    "    \n",
    "    If you're confused, see examples below. Please don't assume that states are integers (they'll get different later).\n",
    "    \"\"\"\n",
    "    \n",
    "    reward_threshold = np.percentile(rewards_batch, percentile)\n",
    "    xs = rewards_batch >= reward_threshold\n",
    "    \n",
    "    elite_states  = []\n",
    "    elite_actions = []\n",
    "    for i, v in enumerate(xs):\n",
    "        if v:\n",
    "            elite_states += states_batch[i]\n",
    "            elite_actions += actions_batch[i]\n",
    "    \n",
    "    return elite_states, elite_actions\n",
    "    "
   ]
  },
  {
   "cell_type": "code",
   "execution_count": 6,
   "metadata": {},
   "outputs": [
    {
     "name": "stdout",
     "output_type": "stream",
     "text": [
      "Ok!\n"
     ]
    }
   ],
   "source": [
    "states_batch = [\n",
    "    [1,2,3],   #game1\n",
    "    [4,2,0,2], #game2\n",
    "    [3,1]      #game3\n",
    "]\n",
    "\n",
    "actions_batch = [\n",
    "    [0,2,4],   #game1\n",
    "    [3,2,0,1], #game2\n",
    "    [3,3]      #game3\n",
    "]\n",
    "rewards_batch = [\n",
    "    3,         #game1\n",
    "    4,         #game2\n",
    "    5,         #game3\n",
    "]\n",
    "\n",
    "test_result_0 = select_elites(states_batch, actions_batch, rewards_batch, percentile=0)\n",
    "test_result_40 = select_elites(states_batch, actions_batch, rewards_batch, percentile=30)\n",
    "test_result_90 = select_elites(states_batch, actions_batch, rewards_batch, percentile=90)\n",
    "test_result_100 = select_elites(states_batch, actions_batch, rewards_batch, percentile=100)\n",
    "assert np.all(test_result_0[0] == [1, 2, 3, 4, 2, 0, 2, 3, 1])  \\\n",
    "   and np.all(test_result_0[1] == [0, 2, 4, 3, 2, 0, 1, 3, 3]),\\\n",
    "        \"For percentile 0 you should return all states and actions in chronological order\"\n",
    "assert np.all(test_result_40[0] == [4, 2, 0, 2, 3, 1]) and \\\n",
    "        np.all(test_result_40[1] ==[3, 2, 0, 1, 3, 3]),\\\n",
    "        \"For percentile 30 you should only select states/actions from two first\"\n",
    "assert np.all(test_result_90[0] == [3,1]) and \\\n",
    "        np.all(test_result_90[1] == [3,3]),\\\n",
    "        \"For percentile 90 you should only select states/actions from one game\"\n",
    "assert np.all(test_result_100[0] == [3,1]) and\\\n",
    "       np.all(test_result_100[1] == [3,3]),\\\n",
    "        \"Please make sure you use >=, not >. Also double-check how you compute percentile.\"\n",
    "print(\"Ok!\")"
   ]
  },
  {
   "cell_type": "markdown",
   "metadata": {},
   "source": [
    "# Training loop\n",
    "Generate sessions, select N best and fit to those."
   ]
  },
  {
   "cell_type": "code",
   "execution_count": 7,
   "metadata": {
    "collapsed": true
   },
   "outputs": [],
   "source": [
    "from IPython.display import clear_output\n",
    "\n",
    "def show_progress(batch_rewards, log, percentile, reward_range=[-990,+10]):\n",
    "    \"\"\"\n",
    "    A convenience function that displays training progress. \n",
    "    No cool math here, just charts.\n",
    "    \"\"\"\n",
    "    \n",
    "    mean_reward, max_reward = np.mean(batch_rewards), np.max(batch_rewards)\n",
    "    threshold = np.percentile(batch_rewards, percentile)\n",
    "    log.append([mean_reward, threshold])\n",
    "\n",
    "    clear_output(True)\n",
    "    print(\"mean reward = %.3f, threshold=%.3f, max=%.3f\" % (mean_reward, threshold, max_reward))\n",
    "    plt.figure(figsize=[8,4])\n",
    "    plt.subplot(1,2,1)\n",
    "    plt.plot(list(zip(*log))[0], label='Mean rewards')\n",
    "    plt.plot(list(zip(*log))[1], label='Reward thresholds')\n",
    "    plt.legend()\n",
    "    plt.grid()\n",
    "    \n",
    "    plt.subplot(1,2,2)\n",
    "    plt.hist(batch_rewards, range=reward_range);\n",
    "    plt.vlines([np.percentile(batch_rewards, percentile)], [0], [100], label=\"percentile\", color='red')\n",
    "    plt.legend()\n",
    "    plt.grid()\n",
    "\n",
    "    plt.show()\n"
   ]
  },
  {
   "cell_type": "code",
   "execution_count": 8,
   "metadata": {
    "collapsed": true
   },
   "outputs": [
    {
     "name": "stdout",
     "output_type": "stream",
     "text": [
      "Session 1\n"
     ]
    },
    {
     "name": "stderr",
     "output_type": "stream",
     "text": [
      "IOPub data rate exceeded.\n",
      "The notebook server will temporarily stop sending output\n",
      "to the client in order to avoid crashing it.\n",
      "To change this limit, set the config variable\n",
      "`--NotebookApp.iopub_data_rate_limit`.\n"
     ]
    },
    {
     "ename": "ValueError",
     "evalue": "operands could not be broadcast together with shapes (0,) (1000,2) ",
     "output_type": "error",
     "traceback": [
      "\u001b[0;31m---------------------------------------------------------------------------\u001b[0m",
      "\u001b[0;31mValueError\u001b[0m                                Traceback (most recent call last)",
      "\u001b[0;32m<ipython-input-8-700a5be6ab71>\u001b[0m in \u001b[0;36m<module>\u001b[0;34m()\u001b[0m\n\u001b[1;32m     14\u001b[0m     \u001b[0mbatch_states\u001b[0m\u001b[0;34m,\u001b[0m\u001b[0mbatch_actions\u001b[0m\u001b[0;34m,\u001b[0m\u001b[0mbatch_rewards\u001b[0m \u001b[0;34m=\u001b[0m \u001b[0mmap\u001b[0m\u001b[0;34m(\u001b[0m\u001b[0mnp\u001b[0m\u001b[0;34m.\u001b[0m\u001b[0marray\u001b[0m\u001b[0;34m,\u001b[0m \u001b[0mzip\u001b[0m\u001b[0;34m(\u001b[0m\u001b[0;34m*\u001b[0m\u001b[0msessions\u001b[0m\u001b[0;34m)\u001b[0m\u001b[0;34m)\u001b[0m\u001b[0;34m\u001b[0m\u001b[0m\n\u001b[1;32m     15\u001b[0m \u001b[0;34m\u001b[0m\u001b[0m\n\u001b[0;32m---> 16\u001b[0;31m     \u001b[0melite_states\u001b[0m\u001b[0;34m,\u001b[0m \u001b[0melite_actions\u001b[0m \u001b[0;34m=\u001b[0m \u001b[0mselect_elites\u001b[0m\u001b[0;34m(\u001b[0m\u001b[0mbatch_states\u001b[0m\u001b[0;34m,\u001b[0m \u001b[0mbatch_actions\u001b[0m\u001b[0;34m,\u001b[0m \u001b[0mbatch_rewards\u001b[0m\u001b[0;34m,\u001b[0m \u001b[0mpercentile\u001b[0m\u001b[0;34m=\u001b[0m\u001b[0mpercentile\u001b[0m\u001b[0;34m)\u001b[0m\u001b[0;34m\u001b[0m\u001b[0m\n\u001b[0m\u001b[1;32m     17\u001b[0m \u001b[0;34m\u001b[0m\u001b[0m\n\u001b[1;32m     18\u001b[0m     \u001b[0mstates\u001b[0m \u001b[0;34m=\u001b[0m \u001b[0mnp\u001b[0m\u001b[0;34m.\u001b[0m\u001b[0marray\u001b[0m\u001b[0;34m(\u001b[0m\u001b[0melite_states\u001b[0m\u001b[0;34m)\u001b[0m\u001b[0;34m\u001b[0m\u001b[0m\n",
      "\u001b[0;32m<ipython-input-5-1cb4e80a4084>\u001b[0m in \u001b[0;36mselect_elites\u001b[0;34m(states_batch, actions_batch, rewards_batch, percentile)\u001b[0m\n\u001b[1;32m     21\u001b[0m     \u001b[0;32mfor\u001b[0m \u001b[0mi\u001b[0m\u001b[0;34m,\u001b[0m \u001b[0mv\u001b[0m \u001b[0;32min\u001b[0m \u001b[0menumerate\u001b[0m\u001b[0;34m(\u001b[0m\u001b[0mxs\u001b[0m\u001b[0;34m)\u001b[0m\u001b[0;34m:\u001b[0m\u001b[0;34m\u001b[0m\u001b[0m\n\u001b[1;32m     22\u001b[0m         \u001b[0;32mif\u001b[0m \u001b[0mv\u001b[0m\u001b[0;34m:\u001b[0m\u001b[0;34m\u001b[0m\u001b[0m\n\u001b[0;32m---> 23\u001b[0;31m             \u001b[0melite_states\u001b[0m \u001b[0;34m+=\u001b[0m \u001b[0mstates_batch\u001b[0m\u001b[0;34m[\u001b[0m\u001b[0mi\u001b[0m\u001b[0;34m]\u001b[0m\u001b[0;34m\u001b[0m\u001b[0m\n\u001b[0m\u001b[1;32m     24\u001b[0m             \u001b[0melite_actions\u001b[0m \u001b[0;34m+=\u001b[0m \u001b[0mactions_batch\u001b[0m\u001b[0;34m[\u001b[0m\u001b[0mi\u001b[0m\u001b[0;34m]\u001b[0m\u001b[0;34m\u001b[0m\u001b[0m\n\u001b[1;32m     25\u001b[0m \u001b[0;34m\u001b[0m\u001b[0m\n",
      "\u001b[0;31mValueError\u001b[0m: operands could not be broadcast together with shapes (0,) (1000,2) "
     ]
    }
   ],
   "source": [
    "n_sessions = 100\n",
    "percentile = 70\n",
    "log = []\n",
    "\n",
    "agent = Agent(env)\n",
    "\n",
    "\n",
    "for i in range(2000):\n",
    "    #generate new sessions\n",
    "    sessions = [generate_session(agent) for _ in range(n_sessions)]\n",
    "    print(\"Session {}\".format(i+1))\n",
    "    print(sessions)\n",
    "\n",
    "    batch_states,batch_actions,batch_rewards = map(np.array, zip(*sessions))\n",
    "\n",
    "    elite_states, elite_actions = select_elites(batch_states, batch_actions, batch_rewards, percentile=percentile)\n",
    "    \n",
    "    states = np.array(elite_states)\n",
    "    actions = action_encoder.transform(elite_actions)\n",
    "    \n",
    "    agent.update(states, actions)\n",
    "\n",
    "    show_progress(batch_rewards, log, percentile, reward_range=[0,np.max(batch_rewards)])\n",
    "    \n",
    "    if np.mean(batch_rewards)> 190:\n",
    "        print(\"You Win! in {} steps\".format(i+1))\n",
    "        break"
   ]
  },
  {
   "cell_type": "markdown",
   "metadata": {},
   "source": [
    "# Results"
   ]
  },
  {
   "cell_type": "code",
   "execution_count": null,
   "metadata": {},
   "outputs": [],
   "source": []
  },
  {
   "cell_type": "code",
   "execution_count": null,
   "metadata": {},
   "outputs": [],
   "source": []
  },
  {
   "cell_type": "code",
   "execution_count": null,
   "metadata": {},
   "outputs": [],
   "source": []
  },
  {
   "cell_type": "code",
   "execution_count": null,
   "metadata": {},
   "outputs": [],
   "source": []
  }
 ],
 "metadata": {
  "kernelspec": {
   "display_name": "Python 3",
   "language": "python",
   "name": "python3"
  },
  "language_info": {
   "codemirror_mode": {
    "name": "ipython",
    "version": 3
   },
   "file_extension": ".py",
   "mimetype": "text/x-python",
   "name": "python",
   "nbconvert_exporter": "python",
   "pygments_lexer": "ipython3",
   "version": "3.6.3"
  }
 },
 "nbformat": 4,
 "nbformat_minor": 2
}
